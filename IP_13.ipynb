{
  "nbformat": 4,
  "nbformat_minor": 0,
  "metadata": {
    "kernelspec": {
      "display_name": "R",
      "language": "R",
      "name": "ir"
    },
    "language_info": {
      "codemirror_mode": "r",
      "file_extension": ".r",
      "mimetype": "text/x-r-source",
      "name": "R",
      "pygments_lexer": "r",
      "version": "3.6.1"
    },
    "colab": {
      "name": "IP_13.ipynb",
      "provenance": [],
      "include_colab_link": true
    }
  },
  "cells": [
    {
      "cell_type": "markdown",
      "metadata": {
        "id": "view-in-github",
        "colab_type": "text"
      },
      "source": [
        "<a href=\"https://colab.research.google.com/github/dkchebet7/Unsupervised-learning-in-R/blob/master/IP_13.ipynb\" target=\"_parent\"><img src=\"https://colab.research.google.com/assets/colab-badge.svg\" alt=\"Open In Colab\"/></a>"
      ]
    },
    {
      "cell_type": "markdown",
      "metadata": {
        "id": "EWj2e5WkN8DC",
        "colab_type": "text"
      },
      "source": [
        "## Objetive: To understand characteristics of customers"
      ]
    },
    {
      "cell_type": "markdown",
      "metadata": {
        "id": "HQBNycnRN8DE",
        "colab_type": "text"
      },
      "source": [
        "## Metrics of success"
      ]
    },
    {
      "cell_type": "markdown",
      "metadata": {
        "id": "MSqGFzYnN8DF",
        "colab_type": "text"
      },
      "source": [
        "## Context"
      ]
    },
    {
      "cell_type": "markdown",
      "metadata": {
        "id": "R4wjTgnDN8DH",
        "colab_type": "text"
      },
      "source": [
        "## Experimntal Designs"
      ]
    },
    {
      "cell_type": "markdown",
      "metadata": {
        "id": "FGqoaaxAN8DK",
        "colab_type": "text"
      },
      "source": [
        "## Data Relevance"
      ]
    },
    {
      "cell_type": "markdown",
      "metadata": {
        "id": "T388DWLbN8DM",
        "colab_type": "text"
      },
      "source": [
        "### Reading data"
      ]
    },
    {
      "cell_type": "code",
      "metadata": {
        "id": "w4RyWVUNN8DQ",
        "colab_type": "code",
        "colab": {}
      },
      "source": [
        "# ## Necessary Library\n",
        "# library(tidyverse)"
      ],
      "execution_count": 0,
      "outputs": []
    },
    {
      "cell_type": "code",
      "metadata": {
        "id": "19LBr0ClN8DU",
        "colab_type": "code",
        "colab": {}
      },
      "source": [
        "data <- read.csv(\"http://bit.ly/EcommerceCustomersDataset\")"
      ],
      "execution_count": 0,
      "outputs": []
    },
    {
      "cell_type": "code",
      "metadata": {
        "id": "i8g4TvszN8DY",
        "colab_type": "code",
        "colab": {},
        "outputId": "43a2d91e-b810-4185-9ba4-effb7e31d8e7"
      },
      "source": [
        "## Checlig the top six rows of the dataset\n",
        "head(data)"
      ],
      "execution_count": 0,
      "outputs": [
        {
          "output_type": "display_data",
          "data": {
            "text/html": [
              "<table>\n",
              "<thead><tr><th scope=col>Administrative</th><th scope=col>Administrative_Duration</th><th scope=col>Informational</th><th scope=col>Informational_Duration</th><th scope=col>ProductRelated</th><th scope=col>ProductRelated_Duration</th><th scope=col>BounceRates</th><th scope=col>ExitRates</th><th scope=col>PageValues</th><th scope=col>SpecialDay</th><th scope=col>Month</th><th scope=col>OperatingSystems</th><th scope=col>Browser</th><th scope=col>Region</th><th scope=col>TrafficType</th><th scope=col>VisitorType</th><th scope=col>Weekend</th><th scope=col>Revenue</th></tr></thead>\n",
              "<tbody>\n",
              "\t<tr><td>0                </td><td> 0               </td><td>0                </td><td> 0               </td><td> 1               </td><td>  0.000000       </td><td>0.20000000       </td><td>0.2000000        </td><td>0                </td><td>0                </td><td>Feb              </td><td>1                </td><td>1                </td><td>1                </td><td>1                </td><td>Returning_Visitor</td><td>FALSE            </td><td>FALSE            </td></tr>\n",
              "\t<tr><td>0                </td><td> 0               </td><td>0                </td><td> 0               </td><td> 2               </td><td> 64.000000       </td><td>0.00000000       </td><td>0.1000000        </td><td>0                </td><td>0                </td><td>Feb              </td><td>2                </td><td>2                </td><td>1                </td><td>2                </td><td>Returning_Visitor</td><td>FALSE            </td><td>FALSE            </td></tr>\n",
              "\t<tr><td>0                </td><td>-1               </td><td>0                </td><td>-1               </td><td> 1               </td><td> -1.000000       </td><td>0.20000000       </td><td>0.2000000        </td><td>0                </td><td>0                </td><td>Feb              </td><td>4                </td><td>1                </td><td>9                </td><td>3                </td><td>Returning_Visitor</td><td>FALSE            </td><td>FALSE            </td></tr>\n",
              "\t<tr><td>0                </td><td> 0               </td><td>0                </td><td> 0               </td><td> 2               </td><td>  2.666667       </td><td>0.05000000       </td><td>0.1400000        </td><td>0                </td><td>0                </td><td>Feb              </td><td>3                </td><td>2                </td><td>2                </td><td>4                </td><td>Returning_Visitor</td><td>FALSE            </td><td>FALSE            </td></tr>\n",
              "\t<tr><td>0                </td><td> 0               </td><td>0                </td><td> 0               </td><td>10               </td><td>627.500000       </td><td>0.02000000       </td><td>0.0500000        </td><td>0                </td><td>0                </td><td>Feb              </td><td>3                </td><td>3                </td><td>1                </td><td>4                </td><td>Returning_Visitor</td><td> TRUE            </td><td>FALSE            </td></tr>\n",
              "\t<tr><td>0                </td><td> 0               </td><td>0                </td><td> 0               </td><td>19               </td><td>154.216667       </td><td>0.01578947       </td><td>0.0245614        </td><td>0                </td><td>0                </td><td>Feb              </td><td>2                </td><td>2                </td><td>1                </td><td>3                </td><td>Returning_Visitor</td><td>FALSE            </td><td>FALSE            </td></tr>\n",
              "</tbody>\n",
              "</table>\n"
            ],
            "text/latex": "\\begin{tabular}{r|llllllllllllllllll}\n Administrative & Administrative\\_Duration & Informational & Informational\\_Duration & ProductRelated & ProductRelated\\_Duration & BounceRates & ExitRates & PageValues & SpecialDay & Month & OperatingSystems & Browser & Region & TrafficType & VisitorType & Weekend & Revenue\\\\\n\\hline\n\t 0                   &  0                  & 0                   &  0                  &  1                  &   0.000000          & 0.20000000          & 0.2000000           & 0                   & 0                   & Feb                 & 1                   & 1                   & 1                   & 1                   & Returning\\_Visitor & FALSE               & FALSE              \\\\\n\t 0                   &  0                  & 0                   &  0                  &  2                  &  64.000000          & 0.00000000          & 0.1000000           & 0                   & 0                   & Feb                 & 2                   & 2                   & 1                   & 2                   & Returning\\_Visitor & FALSE               & FALSE              \\\\\n\t 0                   & -1                  & 0                   & -1                  &  1                  &  -1.000000          & 0.20000000          & 0.2000000           & 0                   & 0                   & Feb                 & 4                   & 1                   & 9                   & 3                   & Returning\\_Visitor & FALSE               & FALSE              \\\\\n\t 0                   &  0                  & 0                   &  0                  &  2                  &   2.666667          & 0.05000000          & 0.1400000           & 0                   & 0                   & Feb                 & 3                   & 2                   & 2                   & 4                   & Returning\\_Visitor & FALSE               & FALSE              \\\\\n\t 0                   &  0                  & 0                   &  0                  & 10                  & 627.500000          & 0.02000000          & 0.0500000           & 0                   & 0                   & Feb                 & 3                   & 3                   & 1                   & 4                   & Returning\\_Visitor &  TRUE               & FALSE              \\\\\n\t 0                   &  0                  & 0                   &  0                  & 19                  & 154.216667          & 0.01578947          & 0.0245614           & 0                   & 0                   & Feb                 & 2                   & 2                   & 1                   & 3                   & Returning\\_Visitor & FALSE               & FALSE              \\\\\n\\end{tabular}\n",
            "text/markdown": "\n| Administrative | Administrative_Duration | Informational | Informational_Duration | ProductRelated | ProductRelated_Duration | BounceRates | ExitRates | PageValues | SpecialDay | Month | OperatingSystems | Browser | Region | TrafficType | VisitorType | Weekend | Revenue |\n|---|---|---|---|---|---|---|---|---|---|---|---|---|---|---|---|---|---|\n| 0                 |  0                | 0                 |  0                |  1                |   0.000000        | 0.20000000        | 0.2000000         | 0                 | 0                 | Feb               | 1                 | 1                 | 1                 | 1                 | Returning_Visitor | FALSE             | FALSE             |\n| 0                 |  0                | 0                 |  0                |  2                |  64.000000        | 0.00000000        | 0.1000000         | 0                 | 0                 | Feb               | 2                 | 2                 | 1                 | 2                 | Returning_Visitor | FALSE             | FALSE             |\n| 0                 | -1                | 0                 | -1                |  1                |  -1.000000        | 0.20000000        | 0.2000000         | 0                 | 0                 | Feb               | 4                 | 1                 | 9                 | 3                 | Returning_Visitor | FALSE             | FALSE             |\n| 0                 |  0                | 0                 |  0                |  2                |   2.666667        | 0.05000000        | 0.1400000         | 0                 | 0                 | Feb               | 3                 | 2                 | 2                 | 4                 | Returning_Visitor | FALSE             | FALSE             |\n| 0                 |  0                | 0                 |  0                | 10                | 627.500000        | 0.02000000        | 0.0500000         | 0                 | 0                 | Feb               | 3                 | 3                 | 1                 | 4                 | Returning_Visitor |  TRUE             | FALSE             |\n| 0                 |  0                | 0                 |  0                | 19                | 154.216667        | 0.01578947        | 0.0245614         | 0                 | 0                 | Feb               | 2                 | 2                 | 1                 | 3                 | Returning_Visitor | FALSE             | FALSE             |\n\n",
            "text/plain": [
              "  Administrative Administrative_Duration Informational Informational_Duration\n",
              "1 0               0                      0              0                    \n",
              "2 0               0                      0              0                    \n",
              "3 0              -1                      0             -1                    \n",
              "4 0               0                      0              0                    \n",
              "5 0               0                      0              0                    \n",
              "6 0               0                      0              0                    \n",
              "  ProductRelated ProductRelated_Duration BounceRates ExitRates PageValues\n",
              "1  1               0.000000              0.20000000  0.2000000 0         \n",
              "2  2              64.000000              0.00000000  0.1000000 0         \n",
              "3  1              -1.000000              0.20000000  0.2000000 0         \n",
              "4  2               2.666667              0.05000000  0.1400000 0         \n",
              "5 10             627.500000              0.02000000  0.0500000 0         \n",
              "6 19             154.216667              0.01578947  0.0245614 0         \n",
              "  SpecialDay Month OperatingSystems Browser Region TrafficType\n",
              "1 0          Feb   1                1       1      1          \n",
              "2 0          Feb   2                2       1      2          \n",
              "3 0          Feb   4                1       9      3          \n",
              "4 0          Feb   3                2       2      4          \n",
              "5 0          Feb   3                3       1      4          \n",
              "6 0          Feb   2                2       1      3          \n",
              "  VisitorType       Weekend Revenue\n",
              "1 Returning_Visitor FALSE   FALSE  \n",
              "2 Returning_Visitor FALSE   FALSE  \n",
              "3 Returning_Visitor FALSE   FALSE  \n",
              "4 Returning_Visitor FALSE   FALSE  \n",
              "5 Returning_Visitor  TRUE   FALSE  \n",
              "6 Returning_Visitor FALSE   FALSE  "
            ]
          },
          "metadata": {
            "tags": []
          }
        }
      ]
    },
    {
      "cell_type": "code",
      "metadata": {
        "id": "83dml_w0N8Df",
        "colab_type": "code",
        "colab": {},
        "outputId": "7dbf4bf5-6208-4453-8626-f7dbea6694f1"
      },
      "source": [
        "## Checlig the bottom six rows of the dataset\n",
        "tail(data)"
      ],
      "execution_count": 0,
      "outputs": [
        {
          "output_type": "display_data",
          "data": {
            "text/html": [
              "<table>\n",
              "<thead><tr><th></th><th scope=col>Administrative</th><th scope=col>Administrative_Duration</th><th scope=col>Informational</th><th scope=col>Informational_Duration</th><th scope=col>ProductRelated</th><th scope=col>ProductRelated_Duration</th><th scope=col>BounceRates</th><th scope=col>ExitRates</th><th scope=col>PageValues</th><th scope=col>SpecialDay</th><th scope=col>Month</th><th scope=col>OperatingSystems</th><th scope=col>Browser</th><th scope=col>Region</th><th scope=col>TrafficType</th><th scope=col>VisitorType</th><th scope=col>Weekend</th><th scope=col>Revenue</th></tr></thead>\n",
              "<tbody>\n",
              "\t<tr><th scope=row>12325</th><td>0                </td><td>  0              </td><td>1                </td><td>0                </td><td>16               </td><td> 503.000         </td><td>0.000000000      </td><td>0.03764706       </td><td> 0.00000         </td><td>0                </td><td>Nov              </td><td>2                </td><td>2                </td><td>1                </td><td> 1               </td><td>Returning_Visitor</td><td>FALSE            </td><td>FALSE            </td></tr>\n",
              "\t<tr><th scope=row>12326</th><td>3                </td><td>145              </td><td>0                </td><td>0                </td><td>53               </td><td>1783.792         </td><td>0.007142857      </td><td>0.02903061       </td><td>12.24172         </td><td>0                </td><td>Dec              </td><td>4                </td><td>6                </td><td>1                </td><td> 1               </td><td>Returning_Visitor</td><td> TRUE            </td><td>FALSE            </td></tr>\n",
              "\t<tr><th scope=row>12327</th><td>0                </td><td>  0              </td><td>0                </td><td>0                </td><td> 5               </td><td> 465.750         </td><td>0.000000000      </td><td>0.02133333       </td><td> 0.00000         </td><td>0                </td><td>Nov              </td><td>3                </td><td>2                </td><td>1                </td><td> 8               </td><td>Returning_Visitor</td><td> TRUE            </td><td>FALSE            </td></tr>\n",
              "\t<tr><th scope=row>12328</th><td>0                </td><td>  0              </td><td>0                </td><td>0                </td><td> 6               </td><td> 184.250         </td><td>0.083333333      </td><td>0.08666667       </td><td> 0.00000         </td><td>0                </td><td>Nov              </td><td>3                </td><td>2                </td><td>1                </td><td>13               </td><td>Returning_Visitor</td><td> TRUE            </td><td>FALSE            </td></tr>\n",
              "\t<tr><th scope=row>12329</th><td>4                </td><td> 75              </td><td>0                </td><td>0                </td><td>15               </td><td> 346.000         </td><td>0.000000000      </td><td>0.02105263       </td><td> 0.00000         </td><td>0                </td><td>Nov              </td><td>2                </td><td>2                </td><td>3                </td><td>11               </td><td>Returning_Visitor</td><td>FALSE            </td><td>FALSE            </td></tr>\n",
              "\t<tr><th scope=row>12330</th><td>0                </td><td>  0              </td><td>0                </td><td>0                </td><td> 3               </td><td>  21.250         </td><td>0.000000000      </td><td>0.06666667       </td><td> 0.00000         </td><td>0                </td><td>Nov              </td><td>3                </td><td>2                </td><td>1                </td><td> 2               </td><td>New_Visitor      </td><td> TRUE            </td><td>FALSE            </td></tr>\n",
              "</tbody>\n",
              "</table>\n"
            ],
            "text/latex": "\\begin{tabular}{r|llllllllllllllllll}\n  & Administrative & Administrative\\_Duration & Informational & Informational\\_Duration & ProductRelated & ProductRelated\\_Duration & BounceRates & ExitRates & PageValues & SpecialDay & Month & OperatingSystems & Browser & Region & TrafficType & VisitorType & Weekend & Revenue\\\\\n\\hline\n\t12325 & 0                   &   0                 & 1                   & 0                   & 16                  &  503.000            & 0.000000000         & 0.03764706          &  0.00000            & 0                   & Nov                 & 2                   & 2                   & 1                   &  1                  & Returning\\_Visitor & FALSE               & FALSE              \\\\\n\t12326 & 3                   & 145                 & 0                   & 0                   & 53                  & 1783.792            & 0.007142857         & 0.02903061          & 12.24172            & 0                   & Dec                 & 4                   & 6                   & 1                   &  1                  & Returning\\_Visitor &  TRUE               & FALSE              \\\\\n\t12327 & 0                   &   0                 & 0                   & 0                   &  5                  &  465.750            & 0.000000000         & 0.02133333          &  0.00000            & 0                   & Nov                 & 3                   & 2                   & 1                   &  8                  & Returning\\_Visitor &  TRUE               & FALSE              \\\\\n\t12328 & 0                   &   0                 & 0                   & 0                   &  6                  &  184.250            & 0.083333333         & 0.08666667          &  0.00000            & 0                   & Nov                 & 3                   & 2                   & 1                   & 13                  & Returning\\_Visitor &  TRUE               & FALSE              \\\\\n\t12329 & 4                   &  75                 & 0                   & 0                   & 15                  &  346.000            & 0.000000000         & 0.02105263          &  0.00000            & 0                   & Nov                 & 2                   & 2                   & 3                   & 11                  & Returning\\_Visitor & FALSE               & FALSE              \\\\\n\t12330 & 0                   &   0                 & 0                   & 0                   &  3                  &   21.250            & 0.000000000         & 0.06666667          &  0.00000            & 0                   & Nov                 & 3                   & 2                   & 1                   &  2                  & New\\_Visitor       &  TRUE               & FALSE              \\\\\n\\end{tabular}\n",
            "text/markdown": "\n| <!--/--> | Administrative | Administrative_Duration | Informational | Informational_Duration | ProductRelated | ProductRelated_Duration | BounceRates | ExitRates | PageValues | SpecialDay | Month | OperatingSystems | Browser | Region | TrafficType | VisitorType | Weekend | Revenue |\n|---|---|---|---|---|---|---|---|---|---|---|---|---|---|---|---|---|---|---|\n| 12325 | 0                 |   0               | 1                 | 0                 | 16                |  503.000          | 0.000000000       | 0.03764706        |  0.00000          | 0                 | Nov               | 2                 | 2                 | 1                 |  1                | Returning_Visitor | FALSE             | FALSE             |\n| 12326 | 3                 | 145               | 0                 | 0                 | 53                | 1783.792          | 0.007142857       | 0.02903061        | 12.24172          | 0                 | Dec               | 4                 | 6                 | 1                 |  1                | Returning_Visitor |  TRUE             | FALSE             |\n| 12327 | 0                 |   0               | 0                 | 0                 |  5                |  465.750          | 0.000000000       | 0.02133333        |  0.00000          | 0                 | Nov               | 3                 | 2                 | 1                 |  8                | Returning_Visitor |  TRUE             | FALSE             |\n| 12328 | 0                 |   0               | 0                 | 0                 |  6                |  184.250          | 0.083333333       | 0.08666667        |  0.00000          | 0                 | Nov               | 3                 | 2                 | 1                 | 13                | Returning_Visitor |  TRUE             | FALSE             |\n| 12329 | 4                 |  75               | 0                 | 0                 | 15                |  346.000          | 0.000000000       | 0.02105263        |  0.00000          | 0                 | Nov               | 2                 | 2                 | 3                 | 11                | Returning_Visitor | FALSE             | FALSE             |\n| 12330 | 0                 |   0               | 0                 | 0                 |  3                |   21.250          | 0.000000000       | 0.06666667        |  0.00000          | 0                 | Nov               | 3                 | 2                 | 1                 |  2                | New_Visitor       |  TRUE             | FALSE             |\n\n",
            "text/plain": [
              "      Administrative Administrative_Duration Informational\n",
              "12325 0                0                     1            \n",
              "12326 3              145                     0            \n",
              "12327 0                0                     0            \n",
              "12328 0                0                     0            \n",
              "12329 4               75                     0            \n",
              "12330 0                0                     0            \n",
              "      Informational_Duration ProductRelated ProductRelated_Duration BounceRates\n",
              "12325 0                      16              503.000                0.000000000\n",
              "12326 0                      53             1783.792                0.007142857\n",
              "12327 0                       5              465.750                0.000000000\n",
              "12328 0                       6              184.250                0.083333333\n",
              "12329 0                      15              346.000                0.000000000\n",
              "12330 0                       3               21.250                0.000000000\n",
              "      ExitRates  PageValues SpecialDay Month OperatingSystems Browser Region\n",
              "12325 0.03764706  0.00000   0          Nov   2                2       1     \n",
              "12326 0.02903061 12.24172   0          Dec   4                6       1     \n",
              "12327 0.02133333  0.00000   0          Nov   3                2       1     \n",
              "12328 0.08666667  0.00000   0          Nov   3                2       1     \n",
              "12329 0.02105263  0.00000   0          Nov   2                2       3     \n",
              "12330 0.06666667  0.00000   0          Nov   3                2       1     \n",
              "      TrafficType VisitorType       Weekend Revenue\n",
              "12325  1          Returning_Visitor FALSE   FALSE  \n",
              "12326  1          Returning_Visitor  TRUE   FALSE  \n",
              "12327  8          Returning_Visitor  TRUE   FALSE  \n",
              "12328 13          Returning_Visitor  TRUE   FALSE  \n",
              "12329 11          Returning_Visitor FALSE   FALSE  \n",
              "12330  2          New_Visitor        TRUE   FALSE  "
            ]
          },
          "metadata": {
            "tags": []
          }
        }
      ]
    },
    {
      "cell_type": "markdown",
      "metadata": {
        "id": "vTs6DJahN8Dj",
        "colab_type": "text"
      },
      "source": [
        "### Checking Data"
      ]
    },
    {
      "cell_type": "code",
      "metadata": {
        "id": "O7AqgQAaN8Dl",
        "colab_type": "code",
        "colab": {},
        "outputId": "7977a1aa-4855-48ad-9311-61c98f6951d0"
      },
      "source": [
        "## Checking number of rows and columns\n",
        "dim(data)"
      ],
      "execution_count": 0,
      "outputs": [
        {
          "output_type": "display_data",
          "data": {
            "text/html": [
              "<ol class=list-inline>\n",
              "\t<li>12330</li>\n",
              "\t<li>18</li>\n",
              "</ol>\n"
            ],
            "text/latex": "\\begin{enumerate*}\n\\item 12330\n\\item 18\n\\end{enumerate*}\n",
            "text/markdown": "1. 12330\n2. 18\n\n\n",
            "text/plain": [
              "[1] 12330    18"
            ]
          },
          "metadata": {
            "tags": []
          }
        }
      ]
    },
    {
      "cell_type": "markdown",
      "metadata": {
        "id": "m9fP1h4iN8Do",
        "colab_type": "text"
      },
      "source": [
        "The dataset has 12330 rows and 18 columns"
      ]
    },
    {
      "cell_type": "code",
      "metadata": {
        "id": "wpypqlA8N8Dp",
        "colab_type": "code",
        "colab": {},
        "outputId": "b2fedfd4-af84-43a2-ff3b-25b385ee8f30"
      },
      "source": [
        "## Checking data information\n",
        "str(data)"
      ],
      "execution_count": 0,
      "outputs": [
        {
          "output_type": "stream",
          "text": [
            "'data.frame':\t12330 obs. of  18 variables:\n",
            " $ Administrative         : int  0 0 0 0 0 0 0 1 0 0 ...\n",
            " $ Administrative_Duration: num  0 0 -1 0 0 0 -1 -1 0 0 ...\n",
            " $ Informational          : int  0 0 0 0 0 0 0 0 0 0 ...\n",
            " $ Informational_Duration : num  0 0 -1 0 0 0 -1 -1 0 0 ...\n",
            " $ ProductRelated         : int  1 2 1 2 10 19 1 1 2 3 ...\n",
            " $ ProductRelated_Duration: num  0 64 -1 2.67 627.5 ...\n",
            " $ BounceRates            : num  0.2 0 0.2 0.05 0.02 ...\n",
            " $ ExitRates              : num  0.2 0.1 0.2 0.14 0.05 ...\n",
            " $ PageValues             : num  0 0 0 0 0 0 0 0 0 0 ...\n",
            " $ SpecialDay             : num  0 0 0 0 0 0 0.4 0 0.8 0.4 ...\n",
            " $ Month                  : Factor w/ 10 levels \"Aug\",\"Dec\",\"Feb\",..: 3 3 3 3 3 3 3 3 3 3 ...\n",
            " $ OperatingSystems       : int  1 2 4 3 3 2 2 1 2 2 ...\n",
            " $ Browser                : int  1 2 1 2 3 2 4 2 2 4 ...\n",
            " $ Region                 : int  1 1 9 2 1 1 3 1 2 1 ...\n",
            " $ TrafficType            : int  1 2 3 4 4 3 3 5 3 2 ...\n",
            " $ VisitorType            : Factor w/ 3 levels \"New_Visitor\",..: 3 3 3 3 3 3 3 3 3 3 ...\n",
            " $ Weekend                : logi  FALSE FALSE FALSE FALSE TRUE FALSE ...\n",
            " $ Revenue                : logi  FALSE FALSE FALSE FALSE FALSE FALSE ...\n"
          ],
          "name": "stdout"
        }
      ]
    },
    {
      "cell_type": "markdown",
      "metadata": {
        "id": "RSikgIvJN8Dt",
        "colab_type": "text"
      },
      "source": [
        "The data information states thata there are 2 categorical variables(visitor type,month)this is false as there are 6 more categorical variables from the data dictionary.\n",
        "Most variables are integers and floats\n",
        "Two variables are boolean type"
      ]
    },
    {
      "cell_type": "code",
      "metadata": {
        "id": "Z4cK9iEsN8Du",
        "colab_type": "code",
        "colab": {},
        "outputId": "527b8734-c888-4a87-ffff-86785b2b24ce"
      },
      "source": [
        "## Checking for missing values\n",
        "colSums(is.na(data))"
      ],
      "execution_count": 0,
      "outputs": [
        {
          "output_type": "display_data",
          "data": {
            "text/html": [
              "<dl class=dl-horizontal>\n",
              "\t<dt>Administrative</dt>\n",
              "\t\t<dd>14</dd>\n",
              "\t<dt>Administrative_Duration</dt>\n",
              "\t\t<dd>14</dd>\n",
              "\t<dt>Informational</dt>\n",
              "\t\t<dd>14</dd>\n",
              "\t<dt>Informational_Duration</dt>\n",
              "\t\t<dd>14</dd>\n",
              "\t<dt>ProductRelated</dt>\n",
              "\t\t<dd>14</dd>\n",
              "\t<dt>ProductRelated_Duration</dt>\n",
              "\t\t<dd>14</dd>\n",
              "\t<dt>BounceRates</dt>\n",
              "\t\t<dd>14</dd>\n",
              "\t<dt>ExitRates</dt>\n",
              "\t\t<dd>14</dd>\n",
              "\t<dt>PageValues</dt>\n",
              "\t\t<dd>0</dd>\n",
              "\t<dt>SpecialDay</dt>\n",
              "\t\t<dd>0</dd>\n",
              "\t<dt>Month</dt>\n",
              "\t\t<dd>0</dd>\n",
              "\t<dt>OperatingSystems</dt>\n",
              "\t\t<dd>0</dd>\n",
              "\t<dt>Browser</dt>\n",
              "\t\t<dd>0</dd>\n",
              "\t<dt>Region</dt>\n",
              "\t\t<dd>0</dd>\n",
              "\t<dt>TrafficType</dt>\n",
              "\t\t<dd>0</dd>\n",
              "\t<dt>VisitorType</dt>\n",
              "\t\t<dd>0</dd>\n",
              "\t<dt>Weekend</dt>\n",
              "\t\t<dd>0</dd>\n",
              "\t<dt>Revenue</dt>\n",
              "\t\t<dd>0</dd>\n",
              "</dl>\n"
            ],
            "text/latex": "\\begin{description*}\n\\item[Administrative] 14\n\\item[Administrative\\textbackslash{}\\_Duration] 14\n\\item[Informational] 14\n\\item[Informational\\textbackslash{}\\_Duration] 14\n\\item[ProductRelated] 14\n\\item[ProductRelated\\textbackslash{}\\_Duration] 14\n\\item[BounceRates] 14\n\\item[ExitRates] 14\n\\item[PageValues] 0\n\\item[SpecialDay] 0\n\\item[Month] 0\n\\item[OperatingSystems] 0\n\\item[Browser] 0\n\\item[Region] 0\n\\item[TrafficType] 0\n\\item[VisitorType] 0\n\\item[Weekend] 0\n\\item[Revenue] 0\n\\end{description*}\n",
            "text/markdown": "Administrative\n:   14Administrative_Duration\n:   14Informational\n:   14Informational_Duration\n:   14ProductRelated\n:   14ProductRelated_Duration\n:   14BounceRates\n:   14ExitRates\n:   14PageValues\n:   0SpecialDay\n:   0Month\n:   0OperatingSystems\n:   0Browser\n:   0Region\n:   0TrafficType\n:   0VisitorType\n:   0Weekend\n:   0Revenue\n:   0\n\n",
            "text/plain": [
              "         Administrative Administrative_Duration           Informational \n",
              "                     14                      14                      14 \n",
              " Informational_Duration          ProductRelated ProductRelated_Duration \n",
              "                     14                      14                      14 \n",
              "            BounceRates               ExitRates              PageValues \n",
              "                     14                      14                       0 \n",
              "             SpecialDay                   Month        OperatingSystems \n",
              "                      0                       0                       0 \n",
              "                Browser                  Region             TrafficType \n",
              "                      0                       0                       0 \n",
              "            VisitorType                 Weekend                 Revenue \n",
              "                      0                       0                       0 "
            ]
          },
          "metadata": {
            "tags": []
          }
        }
      ]
    },
    {
      "cell_type": "markdown",
      "metadata": {
        "id": "bWxfNnhrN8Dy",
        "colab_type": "text"
      },
      "source": [
        "The  first 8 variables have 14 missing values,the rest do not have any misssing values"
      ]
    },
    {
      "cell_type": "code",
      "metadata": {
        "id": "XR1nSxONN8Dz",
        "colab_type": "code",
        "colab": {},
        "outputId": "4ce77e87-f3af-4a36-857f-1e34d6b7ac26"
      },
      "source": [
        "# Checking for duplicates\n",
        "anyDuplicated(data)\n"
      ],
      "execution_count": 0,
      "outputs": [
        {
          "output_type": "display_data",
          "data": {
            "text/html": [
              "159"
            ],
            "text/latex": "159",
            "text/markdown": "159",
            "text/plain": [
              "[1] 159"
            ]
          },
          "metadata": {
            "tags": []
          }
        }
      ]
    },
    {
      "cell_type": "markdown",
      "metadata": {
        "id": "2X7CQAHhN8D2",
        "colab_type": "text"
      },
      "source": [
        "There are 159 duplicates in the dataset"
      ]
    },
    {
      "cell_type": "markdown",
      "metadata": {
        "id": "IL-dRMq9N8D3",
        "colab_type": "text"
      },
      "source": [
        "### Tidying the data"
      ]
    },
    {
      "cell_type": "markdown",
      "metadata": {
        "id": "8Fr2apVbN8D4",
        "colab_type": "text"
      },
      "source": [
        "##### Missing values"
      ]
    },
    {
      "cell_type": "code",
      "metadata": {
        "id": "_L1EbmXyN8D5",
        "colab_type": "code",
        "colab": {},
        "outputId": "41374683-8031-458a-eb4e-7c6c7dcfc84c"
      },
      "source": [
        "## Removing missing values\n",
        "df = na.omit(data)\n",
        "head(df)"
      ],
      "execution_count": 0,
      "outputs": [
        {
          "output_type": "display_data",
          "data": {
            "text/html": [
              "<table>\n",
              "<thead><tr><th scope=col>Administrative</th><th scope=col>Administrative_Duration</th><th scope=col>Informational</th><th scope=col>Informational_Duration</th><th scope=col>ProductRelated</th><th scope=col>ProductRelated_Duration</th><th scope=col>BounceRates</th><th scope=col>ExitRates</th><th scope=col>PageValues</th><th scope=col>SpecialDay</th><th scope=col>Month</th><th scope=col>OperatingSystems</th><th scope=col>Browser</th><th scope=col>Region</th><th scope=col>TrafficType</th><th scope=col>VisitorType</th><th scope=col>Weekend</th><th scope=col>Revenue</th></tr></thead>\n",
              "<tbody>\n",
              "\t<tr><td>0                </td><td> 0               </td><td>0                </td><td> 0               </td><td> 1               </td><td>  0.000000       </td><td>0.20000000       </td><td>0.2000000        </td><td>0                </td><td>0                </td><td>Feb              </td><td>1                </td><td>1                </td><td>1                </td><td>1                </td><td>Returning_Visitor</td><td>FALSE            </td><td>FALSE            </td></tr>\n",
              "\t<tr><td>0                </td><td> 0               </td><td>0                </td><td> 0               </td><td> 2               </td><td> 64.000000       </td><td>0.00000000       </td><td>0.1000000        </td><td>0                </td><td>0                </td><td>Feb              </td><td>2                </td><td>2                </td><td>1                </td><td>2                </td><td>Returning_Visitor</td><td>FALSE            </td><td>FALSE            </td></tr>\n",
              "\t<tr><td>0                </td><td>-1               </td><td>0                </td><td>-1               </td><td> 1               </td><td> -1.000000       </td><td>0.20000000       </td><td>0.2000000        </td><td>0                </td><td>0                </td><td>Feb              </td><td>4                </td><td>1                </td><td>9                </td><td>3                </td><td>Returning_Visitor</td><td>FALSE            </td><td>FALSE            </td></tr>\n",
              "\t<tr><td>0                </td><td> 0               </td><td>0                </td><td> 0               </td><td> 2               </td><td>  2.666667       </td><td>0.05000000       </td><td>0.1400000        </td><td>0                </td><td>0                </td><td>Feb              </td><td>3                </td><td>2                </td><td>2                </td><td>4                </td><td>Returning_Visitor</td><td>FALSE            </td><td>FALSE            </td></tr>\n",
              "\t<tr><td>0                </td><td> 0               </td><td>0                </td><td> 0               </td><td>10               </td><td>627.500000       </td><td>0.02000000       </td><td>0.0500000        </td><td>0                </td><td>0                </td><td>Feb              </td><td>3                </td><td>3                </td><td>1                </td><td>4                </td><td>Returning_Visitor</td><td> TRUE            </td><td>FALSE            </td></tr>\n",
              "\t<tr><td>0                </td><td> 0               </td><td>0                </td><td> 0               </td><td>19               </td><td>154.216667       </td><td>0.01578947       </td><td>0.0245614        </td><td>0                </td><td>0                </td><td>Feb              </td><td>2                </td><td>2                </td><td>1                </td><td>3                </td><td>Returning_Visitor</td><td>FALSE            </td><td>FALSE            </td></tr>\n",
              "</tbody>\n",
              "</table>\n"
            ],
            "text/latex": "\\begin{tabular}{r|llllllllllllllllll}\n Administrative & Administrative\\_Duration & Informational & Informational\\_Duration & ProductRelated & ProductRelated\\_Duration & BounceRates & ExitRates & PageValues & SpecialDay & Month & OperatingSystems & Browser & Region & TrafficType & VisitorType & Weekend & Revenue\\\\\n\\hline\n\t 0                   &  0                  & 0                   &  0                  &  1                  &   0.000000          & 0.20000000          & 0.2000000           & 0                   & 0                   & Feb                 & 1                   & 1                   & 1                   & 1                   & Returning\\_Visitor & FALSE               & FALSE              \\\\\n\t 0                   &  0                  & 0                   &  0                  &  2                  &  64.000000          & 0.00000000          & 0.1000000           & 0                   & 0                   & Feb                 & 2                   & 2                   & 1                   & 2                   & Returning\\_Visitor & FALSE               & FALSE              \\\\\n\t 0                   & -1                  & 0                   & -1                  &  1                  &  -1.000000          & 0.20000000          & 0.2000000           & 0                   & 0                   & Feb                 & 4                   & 1                   & 9                   & 3                   & Returning\\_Visitor & FALSE               & FALSE              \\\\\n\t 0                   &  0                  & 0                   &  0                  &  2                  &   2.666667          & 0.05000000          & 0.1400000           & 0                   & 0                   & Feb                 & 3                   & 2                   & 2                   & 4                   & Returning\\_Visitor & FALSE               & FALSE              \\\\\n\t 0                   &  0                  & 0                   &  0                  & 10                  & 627.500000          & 0.02000000          & 0.0500000           & 0                   & 0                   & Feb                 & 3                   & 3                   & 1                   & 4                   & Returning\\_Visitor &  TRUE               & FALSE              \\\\\n\t 0                   &  0                  & 0                   &  0                  & 19                  & 154.216667          & 0.01578947          & 0.0245614           & 0                   & 0                   & Feb                 & 2                   & 2                   & 1                   & 3                   & Returning\\_Visitor & FALSE               & FALSE              \\\\\n\\end{tabular}\n",
            "text/markdown": "\n| Administrative | Administrative_Duration | Informational | Informational_Duration | ProductRelated | ProductRelated_Duration | BounceRates | ExitRates | PageValues | SpecialDay | Month | OperatingSystems | Browser | Region | TrafficType | VisitorType | Weekend | Revenue |\n|---|---|---|---|---|---|---|---|---|---|---|---|---|---|---|---|---|---|\n| 0                 |  0                | 0                 |  0                |  1                |   0.000000        | 0.20000000        | 0.2000000         | 0                 | 0                 | Feb               | 1                 | 1                 | 1                 | 1                 | Returning_Visitor | FALSE             | FALSE             |\n| 0                 |  0                | 0                 |  0                |  2                |  64.000000        | 0.00000000        | 0.1000000         | 0                 | 0                 | Feb               | 2                 | 2                 | 1                 | 2                 | Returning_Visitor | FALSE             | FALSE             |\n| 0                 | -1                | 0                 | -1                |  1                |  -1.000000        | 0.20000000        | 0.2000000         | 0                 | 0                 | Feb               | 4                 | 1                 | 9                 | 3                 | Returning_Visitor | FALSE             | FALSE             |\n| 0                 |  0                | 0                 |  0                |  2                |   2.666667        | 0.05000000        | 0.1400000         | 0                 | 0                 | Feb               | 3                 | 2                 | 2                 | 4                 | Returning_Visitor | FALSE             | FALSE             |\n| 0                 |  0                | 0                 |  0                | 10                | 627.500000        | 0.02000000        | 0.0500000         | 0                 | 0                 | Feb               | 3                 | 3                 | 1                 | 4                 | Returning_Visitor |  TRUE             | FALSE             |\n| 0                 |  0                | 0                 |  0                | 19                | 154.216667        | 0.01578947        | 0.0245614         | 0                 | 0                 | Feb               | 2                 | 2                 | 1                 | 3                 | Returning_Visitor | FALSE             | FALSE             |\n\n",
            "text/plain": [
              "  Administrative Administrative_Duration Informational Informational_Duration\n",
              "1 0               0                      0              0                    \n",
              "2 0               0                      0              0                    \n",
              "3 0              -1                      0             -1                    \n",
              "4 0               0                      0              0                    \n",
              "5 0               0                      0              0                    \n",
              "6 0               0                      0              0                    \n",
              "  ProductRelated ProductRelated_Duration BounceRates ExitRates PageValues\n",
              "1  1               0.000000              0.20000000  0.2000000 0         \n",
              "2  2              64.000000              0.00000000  0.1000000 0         \n",
              "3  1              -1.000000              0.20000000  0.2000000 0         \n",
              "4  2               2.666667              0.05000000  0.1400000 0         \n",
              "5 10             627.500000              0.02000000  0.0500000 0         \n",
              "6 19             154.216667              0.01578947  0.0245614 0         \n",
              "  SpecialDay Month OperatingSystems Browser Region TrafficType\n",
              "1 0          Feb   1                1       1      1          \n",
              "2 0          Feb   2                2       1      2          \n",
              "3 0          Feb   4                1       9      3          \n",
              "4 0          Feb   3                2       2      4          \n",
              "5 0          Feb   3                3       1      4          \n",
              "6 0          Feb   2                2       1      3          \n",
              "  VisitorType       Weekend Revenue\n",
              "1 Returning_Visitor FALSE   FALSE  \n",
              "2 Returning_Visitor FALSE   FALSE  \n",
              "3 Returning_Visitor FALSE   FALSE  \n",
              "4 Returning_Visitor FALSE   FALSE  \n",
              "5 Returning_Visitor  TRUE   FALSE  \n",
              "6 Returning_Visitor FALSE   FALSE  "
            ]
          },
          "metadata": {
            "tags": []
          }
        }
      ]
    },
    {
      "cell_type": "code",
      "metadata": {
        "id": "XpMt-eWNN8D9",
        "colab_type": "code",
        "colab": {},
        "outputId": "ae75ad92-2ad1-463a-f5b1-d796f450b794"
      },
      "source": [
        "## Checking for missing values\n",
        "\n",
        "colSums(is.na(df))"
      ],
      "execution_count": 0,
      "outputs": [
        {
          "output_type": "display_data",
          "data": {
            "text/html": [
              "<dl class=dl-horizontal>\n",
              "\t<dt>Administrative</dt>\n",
              "\t\t<dd>0</dd>\n",
              "\t<dt>Administrative_Duration</dt>\n",
              "\t\t<dd>0</dd>\n",
              "\t<dt>Informational</dt>\n",
              "\t\t<dd>0</dd>\n",
              "\t<dt>Informational_Duration</dt>\n",
              "\t\t<dd>0</dd>\n",
              "\t<dt>ProductRelated</dt>\n",
              "\t\t<dd>0</dd>\n",
              "\t<dt>ProductRelated_Duration</dt>\n",
              "\t\t<dd>0</dd>\n",
              "\t<dt>BounceRates</dt>\n",
              "\t\t<dd>0</dd>\n",
              "\t<dt>ExitRates</dt>\n",
              "\t\t<dd>0</dd>\n",
              "\t<dt>PageValues</dt>\n",
              "\t\t<dd>0</dd>\n",
              "\t<dt>SpecialDay</dt>\n",
              "\t\t<dd>0</dd>\n",
              "\t<dt>Month</dt>\n",
              "\t\t<dd>0</dd>\n",
              "\t<dt>OperatingSystems</dt>\n",
              "\t\t<dd>0</dd>\n",
              "\t<dt>Browser</dt>\n",
              "\t\t<dd>0</dd>\n",
              "\t<dt>Region</dt>\n",
              "\t\t<dd>0</dd>\n",
              "\t<dt>TrafficType</dt>\n",
              "\t\t<dd>0</dd>\n",
              "\t<dt>VisitorType</dt>\n",
              "\t\t<dd>0</dd>\n",
              "\t<dt>Weekend</dt>\n",
              "\t\t<dd>0</dd>\n",
              "\t<dt>Revenue</dt>\n",
              "\t\t<dd>0</dd>\n",
              "</dl>\n"
            ],
            "text/latex": "\\begin{description*}\n\\item[Administrative] 0\n\\item[Administrative\\textbackslash{}\\_Duration] 0\n\\item[Informational] 0\n\\item[Informational\\textbackslash{}\\_Duration] 0\n\\item[ProductRelated] 0\n\\item[ProductRelated\\textbackslash{}\\_Duration] 0\n\\item[BounceRates] 0\n\\item[ExitRates] 0\n\\item[PageValues] 0\n\\item[SpecialDay] 0\n\\item[Month] 0\n\\item[OperatingSystems] 0\n\\item[Browser] 0\n\\item[Region] 0\n\\item[TrafficType] 0\n\\item[VisitorType] 0\n\\item[Weekend] 0\n\\item[Revenue] 0\n\\end{description*}\n",
            "text/markdown": "Administrative\n:   0Administrative_Duration\n:   0Informational\n:   0Informational_Duration\n:   0ProductRelated\n:   0ProductRelated_Duration\n:   0BounceRates\n:   0ExitRates\n:   0PageValues\n:   0SpecialDay\n:   0Month\n:   0OperatingSystems\n:   0Browser\n:   0Region\n:   0TrafficType\n:   0VisitorType\n:   0Weekend\n:   0Revenue\n:   0\n\n",
            "text/plain": [
              "         Administrative Administrative_Duration           Informational \n",
              "                      0                       0                       0 \n",
              " Informational_Duration          ProductRelated ProductRelated_Duration \n",
              "                      0                       0                       0 \n",
              "            BounceRates               ExitRates              PageValues \n",
              "                      0                       0                       0 \n",
              "             SpecialDay                   Month        OperatingSystems \n",
              "                      0                       0                       0 \n",
              "                Browser                  Region             TrafficType \n",
              "                      0                       0                       0 \n",
              "            VisitorType                 Weekend                 Revenue \n",
              "                      0                       0                       0 "
            ]
          },
          "metadata": {
            "tags": []
          }
        }
      ]
    },
    {
      "cell_type": "markdown",
      "metadata": {
        "id": "uJCa6rqVN8ED",
        "colab_type": "text"
      },
      "source": [
        "There are no missing values left in the dataset"
      ]
    },
    {
      "cell_type": "markdown",
      "metadata": {
        "id": "kxp2o9jAN8EE",
        "colab_type": "text"
      },
      "source": [
        "##### Removing duplicates"
      ]
    },
    {
      "cell_type": "code",
      "metadata": {
        "id": "xuGR5ibnN8EF",
        "colab_type": "code",
        "colab": {}
      },
      "source": [
        "new.df <- df[!duplicated(df),]"
      ],
      "execution_count": 0,
      "outputs": []
    },
    {
      "cell_type": "code",
      "metadata": {
        "id": "mGWx41CyN8EJ",
        "colab_type": "code",
        "colab": {},
        "outputId": "7cf7eb9f-3590-4596-c62e-ab9f5421947f"
      },
      "source": [
        "# Checking for duplicates\n",
        "anyDuplicated(new.df)"
      ],
      "execution_count": 0,
      "outputs": [
        {
          "output_type": "display_data",
          "data": {
            "text/html": [
              "0"
            ],
            "text/latex": "0",
            "text/markdown": "0",
            "text/plain": [
              "[1] 0"
            ]
          },
          "metadata": {
            "tags": []
          }
        }
      ]
    },
    {
      "cell_type": "markdown",
      "metadata": {
        "id": "jIthysZKN8EN",
        "colab_type": "text"
      },
      "source": [
        "There are no duplicated rows in the dataset"
      ]
    },
    {
      "cell_type": "code",
      "metadata": {
        "id": "i5Cqhes7N8EO",
        "colab_type": "code",
        "colab": {}
      },
      "source": [
        "## Check for outliers"
      ],
      "execution_count": 0,
      "outputs": []
    },
    {
      "cell_type": "code",
      "metadata": {
        "id": "8X54CXvGN8EU",
        "colab_type": "code",
        "colab": {}
      },
      "source": [
        ""
      ],
      "execution_count": 0,
      "outputs": []
    },
    {
      "cell_type": "code",
      "metadata": {
        "id": "7Hc6egILN8EX",
        "colab_type": "code",
        "colab": {}
      },
      "source": [
        ""
      ],
      "execution_count": 0,
      "outputs": []
    },
    {
      "cell_type": "code",
      "metadata": {
        "id": "cS-kIp50N8Eb",
        "colab_type": "code",
        "colab": {},
        "outputId": "435c56f7-412a-4840-873c-e381d5b46336"
      },
      "source": [
        "str(new.df)"
      ],
      "execution_count": 0,
      "outputs": [
        {
          "output_type": "stream",
          "text": [
            "'data.frame':\t12199 obs. of  18 variables:\n",
            " $ Administrative         : int  0 0 0 0 0 0 0 1 0 0 ...\n",
            " $ Administrative_Duration: num  0 0 -1 0 0 0 -1 -1 0 0 ...\n",
            " $ Informational          : int  0 0 0 0 0 0 0 0 0 0 ...\n",
            " $ Informational_Duration : num  0 0 -1 0 0 0 -1 -1 0 0 ...\n",
            " $ ProductRelated         : int  1 2 1 2 10 19 1 1 2 3 ...\n",
            " $ ProductRelated_Duration: num  0 64 -1 2.67 627.5 ...\n",
            " $ BounceRates            : num  0.2 0 0.2 0.05 0.02 ...\n",
            " $ ExitRates              : num  0.2 0.1 0.2 0.14 0.05 ...\n",
            " $ PageValues             : num  0 0 0 0 0 0 0 0 0 0 ...\n",
            " $ SpecialDay             : num  0 0 0 0 0 0 0.4 0 0.8 0.4 ...\n",
            " $ Month                  : Factor w/ 10 levels \"Aug\",\"Dec\",\"Feb\",..: 3 3 3 3 3 3 3 3 3 3 ...\n",
            " $ OperatingSystems       : int  1 2 4 3 3 2 2 1 2 2 ...\n",
            " $ Browser                : int  1 2 1 2 3 2 4 2 2 4 ...\n",
            " $ Region                 : int  1 1 9 2 1 1 3 1 2 1 ...\n",
            " $ TrafficType            : int  1 2 3 4 4 3 3 5 3 2 ...\n",
            " $ VisitorType            : Factor w/ 3 levels \"New_Visitor\",..: 3 3 3 3 3 3 3 3 3 3 ...\n",
            " $ Weekend                : logi  FALSE FALSE FALSE FALSE TRUE FALSE ...\n",
            " $ Revenue                : logi  FALSE FALSE FALSE FALSE FALSE FALSE ...\n",
            " - attr(*, \"na.action\")= 'omit' Named int  1066 1133 1134 1135 1136 1137 1474 1475 1476 1477 ...\n",
            "  ..- attr(*, \"names\")= chr  \"1066\" \"1133\" \"1134\" \"1135\" ...\n"
          ],
          "name": "stdout"
        }
      ]
    },
    {
      "cell_type": "markdown",
      "metadata": {
        "id": "5jKpoH_KN8Es",
        "colab_type": "text"
      },
      "source": [
        "### Exploratory Analysis"
      ]
    },
    {
      "cell_type": "markdown",
      "metadata": {
        "id": "afGZdL1lN8Ey",
        "colab_type": "text"
      },
      "source": [
        "##### Univariate Analysis"
      ]
    },
    {
      "cell_type": "code",
      "metadata": {
        "id": "g9XF_ON1N8E1",
        "colab_type": "code",
        "colab": {},
        "outputId": "915c3df9-f454-4273-ff03-145d48f116cb"
      },
      "source": [
        "## Frequency tables for categorical variables\n",
        "\n",
        "table(df$Month)"
      ],
      "execution_count": 0,
      "outputs": [
        {
          "output_type": "display_data",
          "data": {
            "text/plain": [
              "\n",
              " Aug  Dec  Feb  Jul June  Mar  May  Nov  Oct  Sep \n",
              " 433 1706  182  432  285 1853 3328 2983  549  448 "
            ]
          },
          "metadata": {
            "tags": []
          }
        }
      ]
    },
    {
      "cell_type": "markdown",
      "metadata": {
        "id": "U7_EY__5N8E8",
        "colab_type": "text"
      },
      "source": [
        "Sites wre more visited in the months of May and November and least visited in February "
      ]
    },
    {
      "cell_type": "code",
      "metadata": {
        "id": "ZMPTJmikN8E9",
        "colab_type": "code",
        "colab": {},
        "outputId": "242af33c-6a66-4c9d-f1ab-85d7c3c3e63a"
      },
      "source": [
        "table(df$VisitorType)"
      ],
      "execution_count": 0,
      "outputs": [
        {
          "output_type": "display_data",
          "data": {
            "text/plain": [
              "\n",
              "      New_Visitor             Other Returning_Visitor \n",
              "             1693                81             10425 "
            ]
          },
          "metadata": {
            "tags": []
          }
        }
      ]
    },
    {
      "cell_type": "markdown",
      "metadata": {
        "id": "JlwZOW9bN8FG",
        "colab_type": "text"
      },
      "source": [
        "Returning visitors show more appearance on sites as compared to new visitotrs"
      ]
    },
    {
      "cell_type": "code",
      "metadata": {
        "id": "jQrQWuRRN8FI",
        "colab_type": "code",
        "colab": {},
        "outputId": "b244af6c-5a73-4d80-d60b-e4bec20efd4a"
      },
      "source": [
        "table(df$OperatingSystems)"
      ],
      "execution_count": 0,
      "outputs": [
        {
          "output_type": "display_data",
          "data": {
            "text/plain": [
              "\n",
              "   1    2    3    4    5    6    7    8 \n",
              "2548 6536 2530  478    6   19    7   75 "
            ]
          },
          "metadata": {
            "tags": []
          }
        }
      ]
    },
    {
      "cell_type": "code",
      "metadata": {
        "id": "d8FH_V9HN8FN",
        "colab_type": "code",
        "colab": {},
        "outputId": "d086be81-f014-4866-a754-dd4bfc36c5b8"
      },
      "source": [
        "table(df$Browser)"
      ],
      "execution_count": 0,
      "outputs": [
        {
          "output_type": "display_data",
          "data": {
            "text/plain": [
              "\n",
              "   1    2    3    4    5    6    7    8    9   10   11   12   13 \n",
              "2426 7878  105  730  466  174   49  135    1  163    6   10   56 "
            ]
          },
          "metadata": {
            "tags": []
          }
        }
      ]
    },
    {
      "cell_type": "code",
      "metadata": {
        "id": "WBh4140WN8FR",
        "colab_type": "code",
        "colab": {},
        "outputId": "4232254f-3afe-48bb-d654-3606886c7219"
      },
      "source": [
        "table(df$Region)"
      ],
      "execution_count": 0,
      "outputs": [
        {
          "output_type": "display_data",
          "data": {
            "text/plain": [
              "\n",
              "   1    2    3    4    5    6    7    8    9 \n",
              "4711 1127 2382 1168  317  800  758  431  505 "
            ]
          },
          "metadata": {
            "tags": []
          }
        }
      ]
    },
    {
      "cell_type": "code",
      "metadata": {
        "id": "hKUJxCJBN8FX",
        "colab_type": "code",
        "colab": {},
        "outputId": "bff77c05-b16e-4366-b5ef-b635a1160121"
      },
      "source": [
        "table(df$TrafficType)"
      ],
      "execution_count": 0,
      "outputs": [
        {
          "output_type": "display_data",
          "data": {
            "text/plain": [
              "\n",
              "   1    2    3    4    5    6    7    8    9   10   11   12   13   14   15   16 \n",
              "2383 3907 2017 1066  260  443   40  343   41  450  247    1  728   13   36    3 \n",
              "  17   18   19   20 \n",
              "   1   10   17  193 "
            ]
          },
          "metadata": {
            "tags": []
          }
        }
      ]
    },
    {
      "cell_type": "code",
      "metadata": {
        "id": "3JCl6-E8N8Fd",
        "colab_type": "code",
        "colab": {},
        "outputId": "12264957-4b0c-4d7e-805d-24e10bc76e63"
      },
      "source": [
        "table(df$Weekend)"
      ],
      "execution_count": 0,
      "outputs": [
        {
          "output_type": "display_data",
          "data": {
            "text/plain": [
              "\n",
              "FALSE  TRUE \n",
              " 9343  2856 "
            ]
          },
          "metadata": {
            "tags": []
          }
        }
      ]
    },
    {
      "cell_type": "markdown",
      "metadata": {
        "id": "xVa4gV7HN8Fi",
        "colab_type": "text"
      },
      "source": [
        "The sites were visited more during the weekday than the weekend"
      ]
    },
    {
      "cell_type": "code",
      "metadata": {
        "id": "WMsA7D7sN8Fo",
        "colab_type": "code",
        "colab": {}
      },
      "source": [
        "table(df$Revenue)"
      ],
      "execution_count": 0,
      "outputs": []
    },
    {
      "cell_type": "markdown",
      "metadata": {
        "id": "bKSEz5nRN8Fu",
        "colab_type": "text"
      },
      "source": [
        "##### Bivariate Analysis"
      ]
    },
    {
      "cell_type": "markdown",
      "metadata": {
        "id": "vZ3KSBBaN8Fv",
        "colab_type": "text"
      },
      "source": [
        "##### Multivariate Analysis"
      ]
    },
    {
      "cell_type": "markdown",
      "metadata": {
        "id": "gxCch7F1N8Fw",
        "colab_type": "text"
      },
      "source": [
        "### Implementing the solution"
      ]
    },
    {
      "cell_type": "markdown",
      "metadata": {
        "id": "5ppWUXxDN8F1",
        "colab_type": "text"
      },
      "source": [
        "##### Preprocessing\n"
      ]
    },
    {
      "cell_type": "code",
      "metadata": {
        "id": "sJrxcP3FN8F4",
        "colab_type": "code",
        "colab": {},
        "outputId": "a53e90ed-24bb-493b-d285-9097aaeecc39"
      },
      "source": [
        "## Removing the target/class variable(species)\n",
        "new = new.df[,c(1:17)]\n",
        "str(new)"
      ],
      "execution_count": 0,
      "outputs": [
        {
          "output_type": "stream",
          "text": [
            "'data.frame':\t12199 obs. of  17 variables:\n",
            " $ Administrative         : int  0 0 0 0 0 0 0 1 0 0 ...\n",
            " $ Administrative_Duration: num  0 0 -1 0 0 0 -1 -1 0 0 ...\n",
            " $ Informational          : int  0 0 0 0 0 0 0 0 0 0 ...\n",
            " $ Informational_Duration : num  0 0 -1 0 0 0 -1 -1 0 0 ...\n",
            " $ ProductRelated         : int  1 2 1 2 10 19 1 1 2 3 ...\n",
            " $ ProductRelated_Duration: num  0 64 -1 2.67 627.5 ...\n",
            " $ BounceRates            : num  0.2 0 0.2 0.05 0.02 ...\n",
            " $ ExitRates              : num  0.2 0.1 0.2 0.14 0.05 ...\n",
            " $ PageValues             : num  0 0 0 0 0 0 0 0 0 0 ...\n",
            " $ SpecialDay             : num  0 0 0 0 0 0 0.4 0 0.8 0.4 ...\n",
            " $ Month                  : Factor w/ 10 levels \"Aug\",\"Dec\",\"Feb\",..: 3 3 3 3 3 3 3 3 3 3 ...\n",
            " $ OperatingSystems       : int  1 2 4 3 3 2 2 1 2 2 ...\n",
            " $ Browser                : int  1 2 1 2 3 2 4 2 2 4 ...\n",
            " $ Region                 : int  1 1 9 2 1 1 3 1 2 1 ...\n",
            " $ TrafficType            : int  1 2 3 4 4 3 3 5 3 2 ...\n",
            " $ VisitorType            : Factor w/ 3 levels \"New_Visitor\",..: 3 3 3 3 3 3 3 3 3 3 ...\n",
            " $ Weekend                : logi  FALSE FALSE FALSE FALSE TRUE FALSE ...\n"
          ],
          "name": "stdout"
        }
      ]
    },
    {
      "cell_type": "markdown",
      "metadata": {
        "id": "PEMPxvOqN8F9",
        "colab_type": "text"
      },
      "source": [
        "The class variable(Revenue) has been removed from the dataframe"
      ]
    },
    {
      "cell_type": "code",
      "metadata": {
        "id": "9jUP3fimN8F-",
        "colab_type": "code",
        "colab": {},
        "outputId": "3095ad4c-b335-4429-c8f9-6bbee1c52db7"
      },
      "source": [
        "## storing Class variable in another vriable\n",
        "df.class = new.df[, \"Revenue\"]\n",
        "head(df.class)"
      ],
      "execution_count": 0,
      "outputs": [
        {
          "output_type": "display_data",
          "data": {
            "text/html": [
              "<ol class=list-inline>\n",
              "\t<li>FALSE</li>\n",
              "\t<li>FALSE</li>\n",
              "\t<li>FALSE</li>\n",
              "\t<li>FALSE</li>\n",
              "\t<li>FALSE</li>\n",
              "\t<li>FALSE</li>\n",
              "</ol>\n"
            ],
            "text/latex": "\\begin{enumerate*}\n\\item FALSE\n\\item FALSE\n\\item FALSE\n\\item FALSE\n\\item FALSE\n\\item FALSE\n\\end{enumerate*}\n",
            "text/markdown": "1. FALSE\n2. FALSE\n3. FALSE\n4. FALSE\n5. FALSE\n6. FALSE\n\n\n",
            "text/plain": [
              "[1] FALSE FALSE FALSE FALSE FALSE FALSE"
            ]
          },
          "metadata": {
            "tags": []
          }
        }
      ]
    },
    {
      "cell_type": "markdown",
      "metadata": {
        "id": "FtST8AIuN8GD",
        "colab_type": "text"
      },
      "source": [
        "The Revenue is stored as the class label and the rest of the dataset remains for analysis"
      ]
    },
    {
      "cell_type": "code",
      "metadata": {
        "id": "4MX1ZVYeN8GE",
        "colab_type": "code",
        "colab": {}
      },
      "source": [
        "# ## Label encoding\n",
        "# install.packages(\"CatEncoders\")"
      ],
      "execution_count": 0,
      "outputs": []
    },
    {
      "cell_type": "code",
      "metadata": {
        "id": "3KPetycwN8GK",
        "colab_type": "code",
        "colab": {}
      },
      "source": [
        "#library(CatEncoders)"
      ],
      "execution_count": 0,
      "outputs": []
    },
    {
      "cell_type": "code",
      "metadata": {
        "id": "JkTNElJON8GW",
        "colab_type": "code",
        "colab": {}
      },
      "source": [
        "## Converting logical variables into numerical.\n",
        "indx <- sapply(new.df,is.logical)\n",
        "new.df[indx] <- lapply(new.df[indx], function(x) as.numeric(as.factor(x)))"
      ],
      "execution_count": 0,
      "outputs": []
    },
    {
      "cell_type": "code",
      "metadata": {
        "id": "0D4AxwObN8Gc",
        "colab_type": "code",
        "colab": {},
        "outputId": "4c89da82-f62a-4a36-cd82-ea099547e52b"
      },
      "source": [
        "str(new.df)"
      ],
      "execution_count": 0,
      "outputs": [
        {
          "output_type": "stream",
          "text": [
            "'data.frame':\t12199 obs. of  18 variables:\n",
            " $ Administrative         : int  0 0 0 0 0 0 0 1 0 0 ...\n",
            " $ Administrative_Duration: num  0 0 -1 0 0 0 -1 -1 0 0 ...\n",
            " $ Informational          : int  0 0 0 0 0 0 0 0 0 0 ...\n",
            " $ Informational_Duration : num  0 0 -1 0 0 0 -1 -1 0 0 ...\n",
            " $ ProductRelated         : int  1 2 1 2 10 19 1 1 2 3 ...\n",
            " $ ProductRelated_Duration: num  0 64 -1 2.67 627.5 ...\n",
            " $ BounceRates            : num  0.2 0 0.2 0.05 0.02 ...\n",
            " $ ExitRates              : num  0.2 0.1 0.2 0.14 0.05 ...\n",
            " $ PageValues             : num  0 0 0 0 0 0 0 0 0 0 ...\n",
            " $ SpecialDay             : num  0 0 0 0 0 0 0.4 0 0.8 0.4 ...\n",
            " $ Month                  : Factor w/ 10 levels \"Aug\",\"Dec\",\"Feb\",..: 3 3 3 3 3 3 3 3 3 3 ...\n",
            " $ OperatingSystems       : int  1 2 4 3 3 2 2 1 2 2 ...\n",
            " $ Browser                : int  1 2 1 2 3 2 4 2 2 4 ...\n",
            " $ Region                 : int  1 1 9 2 1 1 3 1 2 1 ...\n",
            " $ TrafficType            : int  1 2 3 4 4 3 3 5 3 2 ...\n",
            " $ VisitorType            : Factor w/ 3 levels \"New_Visitor\",..: 3 3 3 3 3 3 3 3 3 3 ...\n",
            " $ Weekend                : num  1 1 1 1 2 1 1 2 1 1 ...\n",
            " $ Revenue                : num  1 1 1 1 1 1 1 1 1 1 ...\n",
            " - attr(*, \"na.action\")= 'omit' Named int  1066 1133 1134 1135 1136 1137 1474 1475 1476 1477 ...\n",
            "  ..- attr(*, \"names\")= chr  \"1066\" \"1133\" \"1134\" \"1135\" ...\n"
          ],
          "name": "stdout"
        }
      ]
    },
    {
      "cell_type": "code",
      "metadata": {
        "id": "0Eq7BdfkN8Gi",
        "colab_type": "code",
        "colab": {}
      },
      "source": [
        "## converting factor variables into numerical\n",
        "## Label encoding\n",
        "cols =  names(which(sapply(new.df, is.factor)))\n",
        "for(i in cols){\n",
        "    encode <- LabelEncoder.fit(new.df[,i])\n",
        "    new.df[,i]<- transform(encode,new.df[,i])\n",
        "}"
      ],
      "execution_count": 0,
      "outputs": []
    },
    {
      "cell_type": "code",
      "metadata": {
        "id": "IzBwgcfaN8Gp",
        "colab_type": "code",
        "colab": {},
        "outputId": "ab4390b6-d632-46f4-9e4e-96ea7f8dc67b"
      },
      "source": [
        "str(new.df)"
      ],
      "execution_count": 0,
      "outputs": [
        {
          "output_type": "stream",
          "text": [
            "'data.frame':\t12199 obs. of  18 variables:\n",
            " $ Administrative         : int  0 0 0 0 0 0 0 1 0 0 ...\n",
            " $ Administrative_Duration: num  0 0 -1 0 0 0 -1 -1 0 0 ...\n",
            " $ Informational          : int  0 0 0 0 0 0 0 0 0 0 ...\n",
            " $ Informational_Duration : num  0 0 -1 0 0 0 -1 -1 0 0 ...\n",
            " $ ProductRelated         : int  1 2 1 2 10 19 1 1 2 3 ...\n",
            " $ ProductRelated_Duration: num  0 64 -1 2.67 627.5 ...\n",
            " $ BounceRates            : num  0.2 0 0.2 0.05 0.02 ...\n",
            " $ ExitRates              : num  0.2 0.1 0.2 0.14 0.05 ...\n",
            " $ PageValues             : num  0 0 0 0 0 0 0 0 0 0 ...\n",
            " $ SpecialDay             : num  0 0 0 0 0 0 0.4 0 0.8 0.4 ...\n",
            " $ Month                  : int  3 3 3 3 3 3 3 3 3 3 ...\n",
            " $ OperatingSystems       : int  1 2 4 3 3 2 2 1 2 2 ...\n",
            " $ Browser                : int  1 2 1 2 3 2 4 2 2 4 ...\n",
            " $ Region                 : int  1 1 9 2 1 1 3 1 2 1 ...\n",
            " $ TrafficType            : int  1 2 3 4 4 3 3 5 3 2 ...\n",
            " $ VisitorType            : int  3 3 3 3 3 3 3 3 3 3 ...\n",
            " $ Weekend                : num  1 1 1 1 2 1 1 2 1 1 ...\n",
            " $ Revenue                : num  1 1 1 1 1 1 1 1 1 1 ...\n",
            " - attr(*, \"na.action\")= 'omit' Named int  1066 1133 1134 1135 1136 1137 1474 1475 1476 1477 ...\n",
            "  ..- attr(*, \"names\")= chr  \"1066\" \"1133\" \"1134\" \"1135\" ...\n"
          ],
          "name": "stdout"
        }
      ]
    },
    {
      "cell_type": "markdown",
      "metadata": {
        "id": "-ltLBbp5N8Gu",
        "colab_type": "text"
      },
      "source": [
        "All columns have been changed to numerical"
      ]
    },
    {
      "cell_type": "code",
      "metadata": {
        "id": "no1xD6xqN8Gw",
        "colab_type": "code",
        "colab": {},
        "outputId": "83b7a927-d9aa-41f1-b106-490c6089d044"
      },
      "source": [
        "unique(new.df$Month)"
      ],
      "execution_count": 0,
      "outputs": [
        {
          "output_type": "display_data",
          "data": {
            "text/html": [
              "<ol class=list-inline>\n",
              "\t<li>3</li>\n",
              "\t<li>6</li>\n",
              "\t<li>7</li>\n",
              "\t<li>9</li>\n",
              "\t<li>5</li>\n",
              "\t<li>4</li>\n",
              "\t<li>1</li>\n",
              "\t<li>8</li>\n",
              "\t<li>10</li>\n",
              "\t<li>2</li>\n",
              "</ol>\n"
            ],
            "text/latex": "\\begin{enumerate*}\n\\item 3\n\\item 6\n\\item 7\n\\item 9\n\\item 5\n\\item 4\n\\item 1\n\\item 8\n\\item 10\n\\item 2\n\\end{enumerate*}\n",
            "text/markdown": "1. 3\n2. 6\n3. 7\n4. 9\n5. 5\n6. 4\n7. 1\n8. 8\n9. 10\n10. 2\n\n\n",
            "text/plain": [
              " [1]  3  6  7  9  5  4  1  8 10  2"
            ]
          },
          "metadata": {
            "tags": []
          }
        }
      ]
    },
    {
      "cell_type": "code",
      "metadata": {
        "id": "_UqFlGlLN8G2",
        "colab_type": "code",
        "colab": {}
      },
      "source": [
        "## Creating a copy of my dataset\n",
        "\n",
        "copy_df <- new.df"
      ],
      "execution_count": 0,
      "outputs": []
    },
    {
      "cell_type": "code",
      "metadata": {
        "id": "p_UVMdbaN8G7",
        "colab_type": "code",
        "colab": {}
      },
      "source": [
        "## Normalizing data\n",
        "\n",
        "df_norm <- as.data.frame(apply(copy_df[, 1:17], 2, function(x) (x - min(x))/(max(x)-min(x))))"
      ],
      "execution_count": 0,
      "outputs": []
    },
    {
      "cell_type": "code",
      "metadata": {
        "id": "4fCup9VZN8HE",
        "colab_type": "code",
        "colab": {},
        "outputId": "0f11eb7f-880f-49d2-9d6a-ec11629d5a94"
      },
      "source": [
        "head(df_norm)"
      ],
      "execution_count": 0,
      "outputs": [
        {
          "output_type": "display_data",
          "data": {
            "text/html": [
              "<table>\n",
              "<thead><tr><th scope=col>Administrative</th><th scope=col>Administrative_Duration</th><th scope=col>Informational</th><th scope=col>Informational_Duration</th><th scope=col>ProductRelated</th><th scope=col>ProductRelated_Duration</th><th scope=col>BounceRates</th><th scope=col>ExitRates</th><th scope=col>PageValues</th><th scope=col>SpecialDay</th><th scope=col>Month</th><th scope=col>OperatingSystems</th><th scope=col>Browser</th><th scope=col>Region</th><th scope=col>TrafficType</th><th scope=col>VisitorType</th><th scope=col>Weekend</th></tr></thead>\n",
              "<tbody>\n",
              "\t<tr><td>0           </td><td>0.0002941393</td><td>0           </td><td>0.0003920992</td><td>0.001418440 </td><td>1.563122e-05</td><td>1.00000000  </td><td>1.000000    </td><td>0           </td><td>0           </td><td>0.2222222   </td><td>0.0000000   </td><td>0.00000000  </td><td>0.000       </td><td>0.00000000  </td><td>1           </td><td>0           </td></tr>\n",
              "\t<tr><td>0           </td><td>0.0002941393</td><td>0           </td><td>0.0003920992</td><td>0.002836879 </td><td>1.016029e-03</td><td>0.00000000  </td><td>0.500000    </td><td>0           </td><td>0           </td><td>0.2222222   </td><td>0.1428571   </td><td>0.08333333  </td><td>0.000       </td><td>0.05263158  </td><td>1           </td><td>0           </td></tr>\n",
              "\t<tr><td>0           </td><td>0.0000000000</td><td>0           </td><td>0.0000000000</td><td>0.001418440 </td><td>0.000000e+00</td><td>1.00000000  </td><td>1.000000    </td><td>0           </td><td>0           </td><td>0.2222222   </td><td>0.4285714   </td><td>0.00000000  </td><td>1.000       </td><td>0.10526316  </td><td>1           </td><td>0           </td></tr>\n",
              "\t<tr><td>0           </td><td>0.0002941393</td><td>0           </td><td>0.0003920992</td><td>0.002836879 </td><td>5.731448e-05</td><td>0.25000000  </td><td>0.700000    </td><td>0           </td><td>0           </td><td>0.2222222   </td><td>0.2857143   </td><td>0.08333333  </td><td>0.125       </td><td>0.15789474  </td><td>1           </td><td>0           </td></tr>\n",
              "\t<tr><td>0           </td><td>0.0002941393</td><td>0           </td><td>0.0003920992</td><td>0.014184397 </td><td>9.824223e-03</td><td>0.10000000  </td><td>0.250000    </td><td>0           </td><td>0           </td><td>0.2222222   </td><td>0.2857143   </td><td>0.16666667  </td><td>0.000       </td><td>0.15789474  </td><td>1           </td><td>1           </td></tr>\n",
              "\t<tr><td>0           </td><td>0.0002941393</td><td>0           </td><td>0.0003920992</td><td>0.026950355 </td><td>2.426226e-03</td><td>0.07894737  </td><td>0.122807    </td><td>0           </td><td>0           </td><td>0.2222222   </td><td>0.1428571   </td><td>0.08333333  </td><td>0.000       </td><td>0.10526316  </td><td>1           </td><td>0           </td></tr>\n",
              "</tbody>\n",
              "</table>\n"
            ],
            "text/latex": "\\begin{tabular}{r|lllllllllllllllll}\n Administrative & Administrative\\_Duration & Informational & Informational\\_Duration & ProductRelated & ProductRelated\\_Duration & BounceRates & ExitRates & PageValues & SpecialDay & Month & OperatingSystems & Browser & Region & TrafficType & VisitorType & Weekend\\\\\n\\hline\n\t 0            & 0.0002941393 & 0            & 0.0003920992 & 0.001418440  & 1.563122e-05 & 1.00000000   & 1.000000     & 0            & 0            & 0.2222222    & 0.0000000    & 0.00000000   & 0.000        & 0.00000000   & 1            & 0           \\\\\n\t 0            & 0.0002941393 & 0            & 0.0003920992 & 0.002836879  & 1.016029e-03 & 0.00000000   & 0.500000     & 0            & 0            & 0.2222222    & 0.1428571    & 0.08333333   & 0.000        & 0.05263158   & 1            & 0           \\\\\n\t 0            & 0.0000000000 & 0            & 0.0000000000 & 0.001418440  & 0.000000e+00 & 1.00000000   & 1.000000     & 0            & 0            & 0.2222222    & 0.4285714    & 0.00000000   & 1.000        & 0.10526316   & 1            & 0           \\\\\n\t 0            & 0.0002941393 & 0            & 0.0003920992 & 0.002836879  & 5.731448e-05 & 0.25000000   & 0.700000     & 0            & 0            & 0.2222222    & 0.2857143    & 0.08333333   & 0.125        & 0.15789474   & 1            & 0           \\\\\n\t 0            & 0.0002941393 & 0            & 0.0003920992 & 0.014184397  & 9.824223e-03 & 0.10000000   & 0.250000     & 0            & 0            & 0.2222222    & 0.2857143    & 0.16666667   & 0.000        & 0.15789474   & 1            & 1           \\\\\n\t 0            & 0.0002941393 & 0            & 0.0003920992 & 0.026950355  & 2.426226e-03 & 0.07894737   & 0.122807     & 0            & 0            & 0.2222222    & 0.1428571    & 0.08333333   & 0.000        & 0.10526316   & 1            & 0           \\\\\n\\end{tabular}\n",
            "text/markdown": "\n| Administrative | Administrative_Duration | Informational | Informational_Duration | ProductRelated | ProductRelated_Duration | BounceRates | ExitRates | PageValues | SpecialDay | Month | OperatingSystems | Browser | Region | TrafficType | VisitorType | Weekend |\n|---|---|---|---|---|---|---|---|---|---|---|---|---|---|---|---|---|\n| 0            | 0.0002941393 | 0            | 0.0003920992 | 0.001418440  | 1.563122e-05 | 1.00000000   | 1.000000     | 0            | 0            | 0.2222222    | 0.0000000    | 0.00000000   | 0.000        | 0.00000000   | 1            | 0            |\n| 0            | 0.0002941393 | 0            | 0.0003920992 | 0.002836879  | 1.016029e-03 | 0.00000000   | 0.500000     | 0            | 0            | 0.2222222    | 0.1428571    | 0.08333333   | 0.000        | 0.05263158   | 1            | 0            |\n| 0            | 0.0000000000 | 0            | 0.0000000000 | 0.001418440  | 0.000000e+00 | 1.00000000   | 1.000000     | 0            | 0            | 0.2222222    | 0.4285714    | 0.00000000   | 1.000        | 0.10526316   | 1            | 0            |\n| 0            | 0.0002941393 | 0            | 0.0003920992 | 0.002836879  | 5.731448e-05 | 0.25000000   | 0.700000     | 0            | 0            | 0.2222222    | 0.2857143    | 0.08333333   | 0.125        | 0.15789474   | 1            | 0            |\n| 0            | 0.0002941393 | 0            | 0.0003920992 | 0.014184397  | 9.824223e-03 | 0.10000000   | 0.250000     | 0            | 0            | 0.2222222    | 0.2857143    | 0.16666667   | 0.000        | 0.15789474   | 1            | 1            |\n| 0            | 0.0002941393 | 0            | 0.0003920992 | 0.026950355  | 2.426226e-03 | 0.07894737   | 0.122807     | 0            | 0            | 0.2222222    | 0.1428571    | 0.08333333   | 0.000        | 0.10526316   | 1            | 0            |\n\n",
            "text/plain": [
              "  Administrative Administrative_Duration Informational Informational_Duration\n",
              "1 0              0.0002941393            0             0.0003920992          \n",
              "2 0              0.0002941393            0             0.0003920992          \n",
              "3 0              0.0000000000            0             0.0000000000          \n",
              "4 0              0.0002941393            0             0.0003920992          \n",
              "5 0              0.0002941393            0             0.0003920992          \n",
              "6 0              0.0002941393            0             0.0003920992          \n",
              "  ProductRelated ProductRelated_Duration BounceRates ExitRates PageValues\n",
              "1 0.001418440    1.563122e-05            1.00000000  1.000000  0         \n",
              "2 0.002836879    1.016029e-03            0.00000000  0.500000  0         \n",
              "3 0.001418440    0.000000e+00            1.00000000  1.000000  0         \n",
              "4 0.002836879    5.731448e-05            0.25000000  0.700000  0         \n",
              "5 0.014184397    9.824223e-03            0.10000000  0.250000  0         \n",
              "6 0.026950355    2.426226e-03            0.07894737  0.122807  0         \n",
              "  SpecialDay Month     OperatingSystems Browser    Region TrafficType\n",
              "1 0          0.2222222 0.0000000        0.00000000 0.000  0.00000000 \n",
              "2 0          0.2222222 0.1428571        0.08333333 0.000  0.05263158 \n",
              "3 0          0.2222222 0.4285714        0.00000000 1.000  0.10526316 \n",
              "4 0          0.2222222 0.2857143        0.08333333 0.125  0.15789474 \n",
              "5 0          0.2222222 0.2857143        0.16666667 0.000  0.15789474 \n",
              "6 0          0.2222222 0.1428571        0.08333333 0.000  0.10526316 \n",
              "  VisitorType Weekend\n",
              "1 1           0      \n",
              "2 1           0      \n",
              "3 1           0      \n",
              "4 1           0      \n",
              "5 1           1      \n",
              "6 1           0      "
            ]
          },
          "metadata": {
            "tags": []
          }
        }
      ]
    },
    {
      "cell_type": "markdown",
      "metadata": {
        "id": "BgWPcaVdN8HQ",
        "colab_type": "text"
      },
      "source": [
        "All dataset has been normalized(between a mean of 0 and SD of 1)"
      ]
    },
    {
      "cell_type": "markdown",
      "metadata": {
        "id": "Ng8052htN8HS",
        "colab_type": "text"
      },
      "source": [
        "#### Clustering"
      ]
    },
    {
      "cell_type": "markdown",
      "metadata": {
        "id": "ooQVoyW3N8HU",
        "colab_type": "text"
      },
      "source": [
        "##### K-Means Clustering"
      ]
    },
    {
      "cell_type": "code",
      "metadata": {
        "id": "zvGVWtpvN8HV",
        "colab_type": "code",
        "colab": {}
      },
      "source": [
        "## Creating 3 k groups\n",
        "result = kmeans(df_norm,3)"
      ],
      "execution_count": 0,
      "outputs": []
    },
    {
      "cell_type": "code",
      "metadata": {
        "id": "JoiQm2aXN8HZ",
        "colab_type": "code",
        "colab": {}
      },
      "source": [
        "# Searching for the optimal number of clusters\n",
        "# # Elbow method\n",
        "# fviz_nbclust(df_norm, kmeans, method = \"wss\") +\n",
        "#     geom_vline(xintercept = 4, linetype = 2)+\n",
        "#   labs(subtitle = \"Elbow method\")\n",
        "# # Silhouette method\n",
        "# fviz_nbclust(df_norm, kmeans, method = \"silhouette\")+\n",
        "#   labs(subtitle = \"Silhouette method\")\n",
        "# # Gap statistic\n",
        "# # nboot = 50 to keep the function speedy.\n",
        "# # recommended value: nboot= 500 for your analysis.\n",
        "# # Use verbose = FALSE to hide computing progression.\n",
        "# set.seed(123)\n",
        "# fviz_nbclust(df_norm, kmeans, nstart = 25,  method = \"gap_stat\", nboot = 50)+\n",
        "#   labs(subtitle = \"Gap statistic method\")"
      ],
      "execution_count": 0,
      "outputs": []
    },
    {
      "cell_type": "code",
      "metadata": {
        "id": "pyx2FF4VN8Hd",
        "colab_type": "code",
        "colab": {},
        "outputId": "04f8eea2-5f32-44fb-d090-0a4696d9d2c3"
      },
      "source": [
        "result$centers"
      ],
      "execution_count": 0,
      "outputs": [
        {
          "output_type": "display_data",
          "data": {
            "text/html": [
              "<table>\n",
              "<thead><tr><th scope=col>Administrative</th><th scope=col>Administrative_Duration</th><th scope=col>Informational</th><th scope=col>Informational_Duration</th><th scope=col>ProductRelated</th><th scope=col>ProductRelated_Duration</th><th scope=col>BounceRates</th><th scope=col>ExitRates</th><th scope=col>PageValues</th><th scope=col>SpecialDay</th><th scope=col>Month</th><th scope=col>OperatingSystems</th><th scope=col>Browser</th><th scope=col>Region</th><th scope=col>TrafficType</th><th scope=col>VisitorType</th><th scope=col>Weekend</th></tr></thead>\n",
              "<tbody>\n",
              "\t<tr><td>0.09203496 </td><td>0.02558730 </td><td>0.02449521 </td><td>0.016384511</td><td>0.04704343 </td><td>0.01916769 </td><td>0.08728349 </td><td>0.1847150  </td><td>0.01747125 </td><td>0.05560224 </td><td>0.5885854  </td><td>0.1610644  </td><td>0.1029704  </td><td>0.2682511  </td><td>0.1608801  </td><td>0.83105742 </td><td>1          </td></tr>\n",
              "\t<tr><td>0.09358258 </td><td>0.02719310 </td><td>0.01362683 </td><td>0.007825722</td><td>0.02562001 </td><td>0.01011988 </td><td>0.02667445 </td><td>0.1063580  </td><td>0.03334550 </td><td>0.02059748 </td><td>0.5424528  </td><td>0.1732929  </td><td>0.1412474  </td><td>0.3095519  </td><td>0.1785419  </td><td>0.02279874 </td><td>0          </td></tr>\n",
              "\t<tr><td>0.08367865 </td><td>0.02341885 </td><td>0.02122827 </td><td>0.014207572</td><td>0.04804611 </td><td>0.02017461 </td><td>0.11943217 </td><td>0.2314785  </td><td>0.01343208 </td><td>0.07074712 </td><td>0.5741406  </td><td>0.1584686  </td><td>0.1123673  </td><td>0.2631180  </td><td>0.1595185  </td><td>0.99900880 </td><td>0          </td></tr>\n",
              "</tbody>\n",
              "</table>\n"
            ],
            "text/latex": "\\begin{tabular}{r|lllllllllllllllll}\n Administrative & Administrative\\_Duration & Informational & Informational\\_Duration & ProductRelated & ProductRelated\\_Duration & BounceRates & ExitRates & PageValues & SpecialDay & Month & OperatingSystems & Browser & Region & TrafficType & VisitorType & Weekend\\\\\n\\hline\n\t 0.09203496  & 0.02558730  & 0.02449521  & 0.016384511 & 0.04704343  & 0.01916769  & 0.08728349  & 0.1847150   & 0.01747125  & 0.05560224  & 0.5885854   & 0.1610644   & 0.1029704   & 0.2682511   & 0.1608801   & 0.83105742  & 1          \\\\\n\t 0.09358258  & 0.02719310  & 0.01362683  & 0.007825722 & 0.02562001  & 0.01011988  & 0.02667445  & 0.1063580   & 0.03334550  & 0.02059748  & 0.5424528   & 0.1732929   & 0.1412474   & 0.3095519   & 0.1785419   & 0.02279874  & 0          \\\\\n\t 0.08367865  & 0.02341885  & 0.02122827  & 0.014207572 & 0.04804611  & 0.02017461  & 0.11943217  & 0.2314785   & 0.01343208  & 0.07074712  & 0.5741406   & 0.1584686   & 0.1123673   & 0.2631180   & 0.1595185   & 0.99900880  & 0          \\\\\n\\end{tabular}\n",
            "text/markdown": "\n| Administrative | Administrative_Duration | Informational | Informational_Duration | ProductRelated | ProductRelated_Duration | BounceRates | ExitRates | PageValues | SpecialDay | Month | OperatingSystems | Browser | Region | TrafficType | VisitorType | Weekend |\n|---|---|---|---|---|---|---|---|---|---|---|---|---|---|---|---|---|\n| 0.09203496  | 0.02558730  | 0.02449521  | 0.016384511 | 0.04704343  | 0.01916769  | 0.08728349  | 0.1847150   | 0.01747125  | 0.05560224  | 0.5885854   | 0.1610644   | 0.1029704   | 0.2682511   | 0.1608801   | 0.83105742  | 1           |\n| 0.09358258  | 0.02719310  | 0.01362683  | 0.007825722 | 0.02562001  | 0.01011988  | 0.02667445  | 0.1063580   | 0.03334550  | 0.02059748  | 0.5424528   | 0.1732929   | 0.1412474   | 0.3095519   | 0.1785419   | 0.02279874  | 0           |\n| 0.08367865  | 0.02341885  | 0.02122827  | 0.014207572 | 0.04804611  | 0.02017461  | 0.11943217  | 0.2314785   | 0.01343208  | 0.07074712  | 0.5741406   | 0.1584686   | 0.1123673   | 0.2631180   | 0.1595185   | 0.99900880  | 0           |\n\n",
            "text/plain": [
              "  Administrative Administrative_Duration Informational Informational_Duration\n",
              "1 0.09203496     0.02558730              0.02449521    0.016384511           \n",
              "2 0.09358258     0.02719310              0.01362683    0.007825722           \n",
              "3 0.08367865     0.02341885              0.02122827    0.014207572           \n",
              "  ProductRelated ProductRelated_Duration BounceRates ExitRates PageValues\n",
              "1 0.04704343     0.01916769              0.08728349  0.1847150 0.01747125\n",
              "2 0.02562001     0.01011988              0.02667445  0.1063580 0.03334550\n",
              "3 0.04804611     0.02017461              0.11943217  0.2314785 0.01343208\n",
              "  SpecialDay Month     OperatingSystems Browser   Region    TrafficType\n",
              "1 0.05560224 0.5885854 0.1610644        0.1029704 0.2682511 0.1608801  \n",
              "2 0.02059748 0.5424528 0.1732929        0.1412474 0.3095519 0.1785419  \n",
              "3 0.07074712 0.5741406 0.1584686        0.1123673 0.2631180 0.1595185  \n",
              "  VisitorType Weekend\n",
              "1 0.83105742  1      \n",
              "2 0.02279874  0      \n",
              "3 0.99900880  0      "
            ]
          },
          "metadata": {
            "tags": []
          }
        }
      ]
    },
    {
      "cell_type": "code",
      "metadata": {
        "id": "ZNUzKOmtN8Hj",
        "colab_type": "code",
        "colab": {}
      },
      "source": [
        "## Plotting the K_means\n",
        "par(mfrow = c(1,2),mar = c(5,4,2,2))\n",
        "\n"
      ],
      "execution_count": 0,
      "outputs": []
    },
    {
      "cell_type": "code",
      "metadata": {
        "id": "u5uQD0OhN8Hr",
        "colab_type": "code",
        "colab": {},
        "outputId": "6ceab654-d2d1-49c8-b98f-49b2c4205af1"
      },
      "source": [
        "plot(df_norm[,1:2], col = result$cluster)"
      ],
      "execution_count": 0,
      "outputs": [
        {
          "output_type": "display_data",
          "data": {
            "image/png": "[encoded data removed]",
            "text/plain": [
              "plot without title"
            ]
          },
          "metadata": {
            "tags": []
          }
        }
      ]
    },
    {
      "cell_type": "code",
      "metadata": {
        "id": "BgF4WL5JN8Hw",
        "colab_type": "code",
        "colab": {},
        "outputId": "4a105041-dedf-41ba-d493-d745c0760c25"
      },
      "source": [
        "plot(df_norm[,7:8], col = result$cluster)"
      ],
      "execution_count": 0,
      "outputs": [
        {
          "output_type": "display_data",
          "data": {
            "image/png": "[encoded data removed]",
            "text/plain": [
              "plot without title"
            ]
          },
          "metadata": {
            "tags": []
          }
        }
      ]
    },
    {
      "cell_type": "code",
      "metadata": {
        "id": "tBGhPNJuN8H1",
        "colab_type": "code",
        "colab": {},
        "outputId": "6fee5a7c-c0bb-4ce0-de8c-90454db8eafe"
      },
      "source": [
        "table(result$cluster, df.class)"
      ],
      "execution_count": 0,
      "outputs": [
        {
          "output_type": "display_data",
          "data": {
            "text/plain": [
              "   df.class\n",
              "    FALSE TRUE\n",
              "  1  2357  499\n",
              "  2   940  332\n",
              "  3  6994 1077"
            ]
          },
          "metadata": {
            "tags": []
          }
        }
      ]
    },
    {
      "cell_type": "markdown",
      "metadata": {
        "id": "p4OQS8uLN8H6",
        "colab_type": "text"
      },
      "source": [
        "##### Hierarchical clustering"
      ]
    },
    {
      "cell_type": "code",
      "metadata": {
        "id": "Kr72NeB-N8H7",
        "colab_type": "code",
        "colab": {},
        "outputId": "4f56dec8-e69f-452a-d762-51565a30784c"
      },
      "source": [
        "## Computing eucledean distance between observations\n",
        "d <- dist(df_norm, method = \"euclidean\")\n",
        "head(d)"
      ],
      "execution_count": 0,
      "outputs": [
        {
          "output_type": "display_data",
          "data": {
            "text/html": [
              "<ol class=list-inline>\n",
              "\t<li>1.13142640219332</li>\n",
              "\t<li>1.09304805123186</li>\n",
              "\t<li>0.884101158882189</li>\n",
              "\t<li>1.58338256808391</li>\n",
              "\t<li>1.28720476271553</li>\n",
              "\t<li>0.562573316270253</li>\n",
              "</ol>\n"
            ],
            "text/latex": "\\begin{enumerate*}\n\\item 1.13142640219332\n\\item 1.09304805123186\n\\item 0.884101158882189\n\\item 1.58338256808391\n\\item 1.28720476271553\n\\item 0.562573316270253\n\\end{enumerate*}\n",
            "text/markdown": "1. 1.13142640219332\n2. 1.09304805123186\n3. 0.884101158882189\n4. 1.58338256808391\n5. 1.28720476271553\n6. 0.562573316270253\n\n\n",
            "text/plain": [
              "[1] 1.1314264 1.0930481 0.8841012 1.5833826 1.2872048 0.5625733"
            ]
          },
          "metadata": {
            "tags": []
          }
        }
      ]
    },
    {
      "cell_type": "code",
      "metadata": {
        "id": "rk6JikOAN8IB",
        "colab_type": "code",
        "colab": {}
      },
      "source": [
        "## ward's method\n",
        "\n",
        "ward <- hclust(d, method = \"ward.D2\" )"
      ],
      "execution_count": 0,
      "outputs": []
    },
    {
      "cell_type": "code",
      "metadata": {
        "id": "xNSyf2VAN8IG",
        "colab_type": "code",
        "colab": {},
        "outputId": "d604e685-76bb-405f-cec3-499ce37fa92a"
      },
      "source": [
        "# Lastly, we plot the obtained dendrogram\n",
        "plot(ward, cex = 0.8 ,hang =-1)"
      ],
      "execution_count": 0,
      "outputs": [
        {
          "output_type": "display_data",
          "data": {
            "image/png": "[encoded data removed]",
            "text/plain": [
              "Plot with title \"Cluster Dendrogram\""
            ]
          },
          "metadata": {
            "tags": []
          }
        }
      ]
    },
    {
      "cell_type": "markdown",
      "metadata": {
        "id": "4syljxsLN8IM",
        "colab_type": "text"
      },
      "source": [
        "#### Dimensionality reduction"
      ]
    },
    {
      "cell_type": "markdown",
      "metadata": {
        "id": "6jQr0FgKN8IO",
        "colab_type": "text"
      },
      "source": [
        "##### PCA"
      ]
    },
    {
      "cell_type": "code",
      "metadata": {
        "id": "YXwHV_-tN8IQ",
        "colab_type": "code",
        "colab": {},
        "outputId": "c2e66c3f-cb38-4603-e0b0-63a6a0c6abfc"
      },
      "source": [
        "df.pca <- prcomp(df_norm,center = TRUE, scale. = TRUE)\n",
        "df.pca"
      ],
      "execution_count": 0,
      "outputs": [
        {
          "output_type": "display_data",
          "data": {
            "text/plain": [
              "Standard deviations (1, .., p=17):\n",
              " [1] 1.8418826 1.3444880 1.1760245 1.0867594 1.0378939 1.0123803 0.9890023\n",
              " [8] 0.9771656 0.9661469 0.9350898 0.9187767 0.8989912 0.8707422 0.6498877\n",
              "[15] 0.5933727 0.3518152 0.2899059\n",
              "\n",
              "Rotation (n x k) = (17 x 17):\n",
              "                                 PC1         PC2          PC3         PC4\n",
              "Administrative           0.381249076 -0.02881053  0.046780224  0.17658197\n",
              "Administrative_Duration  0.328106855 -0.07200041  0.058573469  0.24075716\n",
              "Informational            0.348170119 -0.23906401 -0.008126580  0.25185368\n",
              "Informational_Duration   0.296493893 -0.25391252 -0.003726236  0.27383237\n",
              "ProductRelated           0.411401814 -0.17868060  0.024107179 -0.30840614\n",
              "ProductRelated_Duration  0.413201144 -0.21005214  0.032008888 -0.26081987\n",
              "BounceRates             -0.271839820 -0.55324640  0.028018418  0.21353353\n",
              "ExitRates               -0.320806727 -0.53693651  0.010710739  0.17667886\n",
              "PageValues               0.091107294  0.19806242  0.143605055  0.14445353\n",
              "SpecialDay              -0.075704836 -0.15224929  0.011897450 -0.43922988\n",
              "Month                    0.042937825 -0.03307921 -0.054591592 -0.38380301\n",
              "OperatingSystems        -0.015657473 -0.02472663  0.594295617 -0.06603961\n",
              "Browser                 -0.020121164  0.04538317  0.550462606 -0.04167693\n",
              "Region                  -0.024758272  0.05712940  0.302254152  0.13185868\n",
              "TrafficType             -0.054740102 -0.08424146  0.462903410 -0.09356421\n",
              "VisitorType              0.005134011 -0.34926760 -0.059987348 -0.36443628\n",
              "Weekend                  0.030037419  0.05839168 -0.051177840  0.07962148\n",
              "                                PC5         PC6         PC7         PC8\n",
              "Administrative          -0.14935879  0.36002299 -0.08533947  0.09865822\n",
              "Administrative_Duration -0.17897964  0.43121565 -0.08950831  0.13450217\n",
              "Informational           -0.04593599 -0.37012651  0.18895047  0.13453101\n",
              "Informational_Duration  -0.02731990 -0.47948197  0.24944085  0.15461581\n",
              "ProductRelated           0.15254452  0.08997154 -0.13908488 -0.19455908\n",
              "ProductRelated_Duration  0.15277011  0.07213292 -0.11814349 -0.18134405\n",
              "BounceRates             -0.09834247  0.18574221 -0.03949908 -0.10816909\n",
              "ExitRates               -0.05488274  0.13197111 -0.02807189 -0.07247480\n",
              "PageValues              -0.21991614  0.12747600  0.37420144 -0.31489820\n",
              "SpecialDay              -0.21529349 -0.16456442  0.18053366  0.42678075\n",
              "Month                   -0.59981984  0.11660634  0.08187900  0.16486031\n",
              "OperatingSystems         0.01636850 -0.12066133 -0.03642884 -0.16949156\n",
              "Browser                  0.20364798 -0.06137021  0.07890067 -0.05210705\n",
              "Region                   0.13564854  0.04316196 -0.44425030  0.63224902\n",
              "TrafficType             -0.33872978  0.00246600  0.08811464 -0.06125590\n",
              "VisitorType              0.25299176 -0.03293184 -0.10451402 -0.05753513\n",
              "Weekend                 -0.43603666 -0.41727416 -0.66948514 -0.30944060\n",
              "                                PC9         PC10        PC11         PC12\n",
              "Administrative          -0.20517965  0.131842054 -0.06557168  0.148694836\n",
              "Administrative_Duration -0.27677500  0.183494827 -0.08699701  0.171737465\n",
              "Informational            0.01612791 -0.084986998 -0.03856110  0.053400834\n",
              "Informational_Duration   0.04108466 -0.109019450 -0.04660560  0.008224357\n",
              "ProductRelated           0.16712623  0.015113993  0.12115717 -0.282232545\n",
              "ProductRelated_Duration  0.16797322  0.003472012  0.11498270 -0.296257806\n",
              "BounceRates              0.13324509  0.072922065 -0.03422273 -0.144827059\n",
              "ExitRates                0.09405322  0.055931008 -0.04716492 -0.097413915\n",
              "PageValues               0.64139323  0.286125623  0.16870435  0.284203039\n",
              "SpecialDay              -0.09861961  0.668277026  0.16283345 -0.062532182\n",
              "Month                    0.22176563 -0.409074486 -0.46342322 -0.040441684\n",
              "OperatingSystems        -0.20221938 -0.020988627 -0.09312460  0.076489286\n",
              "Browser                  0.02967292  0.203259729 -0.56462142 -0.095520789\n",
              "Region                   0.48088524 -0.104451215  0.15695324  0.037447129\n",
              "TrafficType             -0.22700898 -0.330831381  0.57183942  0.021887817\n",
              "VisitorType              0.03259039 -0.082583099 -0.03998998  0.799276814\n",
              "Weekend                  0.02631228  0.237517242 -0.05231326  0.074644241\n",
              "                                PC13         PC14         PC15          PC16\n",
              "Administrative          -0.002235861  0.581169971  0.446044270  0.1674591704\n",
              "Administrative_Duration  0.032772836 -0.565476661 -0.302846257 -0.1457874768\n",
              "Informational           -0.011816149  0.390492517 -0.632427639  0.0284425317\n",
              "Informational_Duration   0.013150058 -0.359329165  0.551909417 -0.0777737648\n",
              "ProductRelated          -0.010636276  0.109286481  0.032179729 -0.6682208992\n",
              "ProductRelated_Duration  0.002392837 -0.201420500 -0.046457727  0.6729938543\n",
              "BounceRates             -0.037553576  0.071645824  0.031960370 -0.1499337241\n",
              "ExitRates               -0.009945453  0.005938482 -0.003181596  0.1471427339\n",
              "PageValues              -0.052601371 -0.024394878 -0.005174573  0.0060446782\n",
              "SpecialDay              -0.048995041  0.018673557  0.002913532  0.0101954890\n",
              "Month                   -0.078267602 -0.019114103 -0.005892072  0.0033284273\n",
              "OperatingSystems        -0.735133741 -0.018612047  0.001474912  0.0040662655\n",
              "Browser                  0.517038672  0.030769868 -0.009328201 -0.0048973241\n",
              "Region                  -0.041839103 -0.005312387 -0.002747013 -0.0039043762\n",
              "TrafficType              0.389845923  0.012746227  0.001082702 -0.0023040842\n",
              "VisitorType              0.106924472 -0.015683750  0.018298032  0.0006870971\n",
              "Weekend                  0.113019110 -0.012433509  0.005637253  0.0078479362\n",
              "                                PC17\n",
              "Administrative           0.029261491\n",
              "Administrative_Duration  0.023216549\n",
              "Informational           -0.002407573\n",
              "Informational_Duration   0.009464540\n",
              "ProductRelated           0.180162393\n",
              "ProductRelated_Duration -0.125833879\n",
              "BounceRates             -0.664036792\n",
              "ExitRates                0.710984814\n",
              "PageValues               0.035632377\n",
              "SpecialDay              -0.015839273\n",
              "Month                    0.007592381\n",
              "OperatingSystems         0.008405716\n",
              "Browser                 -0.010337218\n",
              "Region                   0.004420710\n",
              "TrafficType              0.001405400\n",
              "VisitorType             -0.043724810\n",
              "Weekend                  0.009131231"
            ]
          },
          "metadata": {
            "tags": []
          }
        }
      ]
    },
    {
      "cell_type": "code",
      "metadata": {
        "id": "HZsjBLLRN8IU",
        "colab_type": "code",
        "colab": {},
        "outputId": "b23578ec-ff91-4501-e18a-af892fde8962"
      },
      "source": [
        "summary(df.pca)"
      ],
      "execution_count": 0,
      "outputs": [
        {
          "output_type": "display_data",
          "data": {
            "text/plain": [
              "Importance of components:\n",
              "                          PC1    PC2     PC3     PC4     PC5     PC6     PC7\n",
              "Standard deviation     1.8419 1.3445 1.17602 1.08676 1.03789 1.01238 0.98900\n",
              "Proportion of Variance 0.1996 0.1063 0.08135 0.06947 0.06337 0.06029 0.05754\n",
              "Cumulative Proportion  0.1996 0.3059 0.38725 0.45672 0.52009 0.58038 0.63791\n",
              "                           PC8     PC9    PC10    PC11    PC12   PC13    PC14\n",
              "Standard deviation     0.97717 0.96615 0.93509 0.91878 0.89899 0.8707 0.64989\n",
              "Proportion of Variance 0.05617 0.05491 0.05143 0.04966 0.04754 0.0446 0.02484\n",
              "Cumulative Proportion  0.69408 0.74899 0.80042 0.85008 0.89762 0.9422 0.96706\n",
              "                          PC15    PC16    PC17\n",
              "Standard deviation     0.59337 0.35182 0.28991\n",
              "Proportion of Variance 0.02071 0.00728 0.00494\n",
              "Cumulative Proportion  0.98778 0.99506 1.00000"
            ]
          },
          "metadata": {
            "tags": []
          }
        }
      ]
    },
    {
      "cell_type": "code",
      "metadata": {
        "id": "nN3nTA2LN8IY",
        "colab_type": "code",
        "colab": {},
        "outputId": "7e387cde-3617-4c7e-948f-d19f4deffcbf"
      },
      "source": [
        "biplot(df.pca)"
      ],
      "execution_count": 0,
      "outputs": [
        {
          "output_type": "display_data",
          "data": {
            "image/png": "[encoded data removed]",
            "text/plain": [
              "plot without title"
            ]
          },
          "metadata": {
            "tags": []
          }
        }
      ]
    },
    {
      "cell_type": "markdown",
      "metadata": {
        "id": "dRgxgww4N8Id",
        "colab_type": "text"
      },
      "source": [
        "##### tSNE"
      ]
    },
    {
      "cell_type": "code",
      "metadata": {
        "id": "JdWhyLzUN8If",
        "colab_type": "code",
        "colab": {},
        "outputId": "1acfeebd-a06c-4c96-99b7-74e29dbd2e18"
      },
      "source": [
        "## Installing Rtnse package\n",
        "install.packages('Rtsne')"
      ],
      "execution_count": 0,
      "outputs": [
        {
          "output_type": "stream",
          "text": [
            "Installing package into 'C:/Users/Hp/Documents/R/win-library/3.6'\n",
            "(as 'lib' is unspecified)\n"
          ],
          "name": "stderr"
        },
        {
          "output_type": "stream",
          "text": [
            "package 'Rtsne' successfully unpacked and MD5 sums checked\n",
            "\n",
            "The downloaded binary packages are in\n",
            "\tC:\\Users\\Hp\\AppData\\Local\\Temp\\RtmpK0uFbQ\\downloaded_packages\n"
          ],
          "name": "stdout"
        }
      ]
    },
    {
      "cell_type": "code",
      "metadata": {
        "id": "aKFykVNoN8Ij",
        "colab_type": "code",
        "colab": {}
      },
      "source": [
        "library(Rtsne)"
      ],
      "execution_count": 0,
      "outputs": []
    },
    {
      "cell_type": "code",
      "metadata": {
        "id": "t9OR3A42N8Iu",
        "colab_type": "code",
        "colab": {}
      },
      "source": [
        "# For plotting\n",
        "#\n",
        "colors = rainbow(length(unique(df_norm)))\n"
      ],
      "execution_count": 0,
      "outputs": []
    },
    {
      "cell_type": "code",
      "metadata": {
        "id": "au0VKHedN8I0",
        "colab_type": "code",
        "colab": {},
        "outputId": "09ee7419-d76e-46fc-9f21-98a72c9a86d4"
      },
      "source": [
        "# Executing the algorithm on curated data\n",
        "# \n",
        "tsne <- Rtsne(df_norm[,-1], dims = 2, perplexity=30, verbose=TRUE, max_iter = 500)"
      ],
      "execution_count": 0,
      "outputs": [
        {
          "output_type": "stream",
          "text": [
            "Performing PCA\n",
            "Read the 12199 x 16 data matrix successfully!\n",
            "OpenMP is working. 1 threads.\n",
            "Using no_dims = 2, perplexity = 30.000000, and theta = 0.500000\n",
            "Computing input similarities...\n",
            "Building tree...\n",
            " - point 10000 of 12199\n",
            "Done in 6.90 seconds (sparsity = 0.010477)!\n",
            "Learning embedding...\n",
            "Iteration 50: error is 99.796268 (50 iterations in 4.97 seconds)\n",
            "Iteration 100: error is 86.624799 (50 iterations in 6.14 seconds)\n",
            "Iteration 150: error is 80.606514 (50 iterations in 4.21 seconds)\n",
            "Iteration 200: error is 78.914683 (50 iterations in 4.03 seconds)\n",
            "Iteration 250: error is 78.227927 (50 iterations in 4.80 seconds)\n",
            "Iteration 300: error is 2.917781 (50 iterations in 3.87 seconds)\n",
            "Iteration 350: error is 2.486981 (50 iterations in 4.02 seconds)\n",
            "Iteration 400: error is 2.216300 (50 iterations in 4.49 seconds)\n",
            "Iteration 450: error is 2.028280 (50 iterations in 3.94 seconds)\n",
            "Iteration 500: error is 1.887876 (50 iterations in 4.06 seconds)\n",
            "Fitting performed in 44.53 seconds.\n"
          ],
          "name": "stdout"
        }
      ]
    },
    {
      "cell_type": "code",
      "metadata": {
        "id": "w__zIZ13N8I6",
        "colab_type": "code",
        "colab": {},
        "outputId": "91babce4-63cf-489e-9e37-81958a89e1e0"
      },
      "source": [
        "# Getting the duration of execution\n",
        "# \n",
        "execution <- system.time(Rtsne(df_norm[,-1], dims = 2, perplexity=30, verbose=TRUE, max_iter = 500))\n"
      ],
      "execution_count": 0,
      "outputs": [
        {
          "output_type": "stream",
          "text": [
            "Performing PCA\n",
            "Read the 12199 x 16 data matrix successfully!\n",
            "OpenMP is working. 1 threads.\n",
            "Using no_dims = 2, perplexity = 30.000000, and theta = 0.500000\n",
            "Computing input similarities...\n",
            "Building tree...\n",
            " - point 10000 of 12199\n",
            "Done in 6.92 seconds (sparsity = 0.010477)!\n",
            "Learning embedding...\n",
            "Iteration 50: error is 99.796263 (50 iterations in 5.65 seconds)\n",
            "Iteration 100: error is 86.688838 (50 iterations in 5.64 seconds)\n",
            "Iteration 150: error is 80.968766 (50 iterations in 4.13 seconds)\n",
            "Iteration 200: error is 79.275082 (50 iterations in 4.70 seconds)\n",
            "Iteration 250: error is 78.529723 (50 iterations in 4.53 seconds)\n",
            "Iteration 300: error is 2.927096 (50 iterations in 3.77 seconds)\n",
            "Iteration 350: error is 2.490307 (50 iterations in 4.24 seconds)\n",
            "Iteration 400: error is 2.216056 (50 iterations in 4.01 seconds)\n",
            "Iteration 450: error is 2.027376 (50 iterations in 3.88 seconds)\n",
            "Iteration 500: error is 1.886876 (50 iterations in 4.51 seconds)\n",
            "Fitting performed in 45.05 seconds.\n"
          ],
          "name": "stdout"
        }
      ]
    },
    {
      "cell_type": "code",
      "metadata": {
        "id": "pzEeX4D2N8I-",
        "colab_type": "code",
        "colab": {},
        "outputId": "e95bb0f6-cb17-45f5-97a6-b337e9beaca5"
      },
      "source": [
        "# Plotting our graph and closely examining the graph\n",
        "# \n",
        "plot(tsne$Y, t='n', main=\"tsne\")\n",
        "text(tsne$Y, labels=df_norm, col=colors[df_norm])\n",
        "\n"
      ],
      "execution_count": 0,
      "outputs": [
        {
          "output_type": "error",
          "ename": "ERROR",
          "evalue": "Error in colors[df_norm]: invalid subscript type 'list'\n",
          "traceback": [
            "Error in colors[df_norm]: invalid subscript type 'list'\nTraceback:\n",
            "1. text(tsne$Y, labels = df_norm, col = colors[df_norm])",
            "2. text.default(tsne$Y, labels = df_norm, col = colors[df_norm])"
          ]
        },
        {
          "output_type": "display_data",
          "data": {
            "image/png": "[encoded data removed]",
            "text/plain": [
              "Plot with title \"tsne\""
            ]
          },
          "metadata": {
            "tags": []
          }
        }
      ]
    },
    {
      "cell_type": "code",
      "metadata": {
        "id": "TfUYnuwDN8JI",
        "colab_type": "code",
        "colab": {}
      },
      "source": [
        ""
      ],
      "execution_count": 0,
      "outputs": []
    },
    {
      "cell_type": "markdown",
      "metadata": {
        "id": "gTFOY9wBN8JM",
        "colab_type": "text"
      },
      "source": [
        "### Comparison between the solutions"
      ]
    },
    {
      "cell_type": "markdown",
      "metadata": {
        "id": "m1AFv9EvN8JN",
        "colab_type": "text"
      },
      "source": [
        "### Follow up questions"
      ]
    },
    {
      "cell_type": "markdown",
      "metadata": {
        "id": "6Fbl_jBMN8JR",
        "colab_type": "raw"
      },
      "source": [
        "a). Did we have the right data?\n",
        "b). Do we need other data to answer our question?\n",
        "c). Did we have the right question?\n"
      ]
    },
    {
      "cell_type": "code",
      "metadata": {
        "id": "wkCWyA5XN8JU",
        "colab_type": "code",
        "colab": {}
      },
      "source": [
        ""
      ],
      "execution_count": 0,
      "outputs": []
    }
  ]
}